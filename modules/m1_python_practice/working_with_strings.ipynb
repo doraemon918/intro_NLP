{
 "cells": [
  {
   "cell_type": "markdown",
   "metadata": {},
   "source": [
    "# Working with Strings"
   ]
  },
  {
   "cell_type": "code",
   "execution_count": null,
   "metadata": {},
   "outputs": [],
   "source": [
    "# String\n",
    "\n",
    "stringVariable=\"Hello world!\"\n",
    "\n",
    "print(stringVariable)\n",
    "\n",
    "print(stringVariable[0])\n",
    "\n",
    "print(stringVariable[-1])"
   ]
  },
  {
   "cell_type": "code",
   "execution_count": null,
   "metadata": {},
   "outputs": [],
   "source": [
    "print(len(stringVariable))"
   ]
  },
  {
   "cell_type": "code",
   "execution_count": null,
   "metadata": {},
   "outputs": [],
   "source": [
    "print(\"The variable value is \", stringVariable)"
   ]
  },
  {
   "cell_type": "code",
   "execution_count": null,
   "metadata": {},
   "outputs": [],
   "source": [
    "normal = 'This is a string \\r\\n \\t with special characters '\n",
    "print(normal)\n",
    "raw = r'This is a string \\r\\n \\t with special characters'\n",
    "print(raw)\n",
    "\n",
    "multiline = \"\"\"\n",
    "This is a string that\n",
    "has two lines\n",
    "\"\"\"\n",
    "print(multiline)"
   ]
  },
  {
   "cell_type": "code",
   "execution_count": null,
   "metadata": {},
   "outputs": [],
   "source": [
    "print(sorted(stringVariable))\n",
    "\n",
    "print(sorted(stringVariable, reverse=True) ) "
   ]
  }
 ],
 "metadata": {
  "kernelspec": {
   "display_name": "Python 3",
   "language": "python",
   "name": "python3"
  },
  "language_info": {
   "codemirror_mode": {
    "name": "ipython",
    "version": 3
   },
   "file_extension": ".py",
   "mimetype": "text/x-python",
   "name": "python",
   "nbconvert_exporter": "python",
   "pygments_lexer": "ipython3",
   "version": "3.6.4"
  }
 },
 "nbformat": 4,
 "nbformat_minor": 2
}
