{
 "cells": [
  {
   "cell_type": "markdown",
   "metadata": {},
   "source": [
    "## Workspace setup\n",
    "\n",
    "We are using brat annotation tool to practice setting up manual annotation project. Brat is a browser based tool that requires text files to be placed in a folder within brat directory. To avoid annotation conflict with other students, you need to create your workspace within BRAT directory. \n",
    "\n",
    "This notebook demonstrates how run bash commands within Jupyter notebook. \n",
    "\n",
    "To avoid any unintentional file manipulations, please set variable unid to your UNID. That will be the name of your workspace."
   ]
  },
  {
   "cell_type": "code",
   "execution_count": null,
   "metadata": {},
   "outputs": [],
   "source": [
    "# Set variable unid to your UNID\n",
    "\n",
<<<<<<< HEAD
<<<<<<< HEAD
    "unid = \"u1166466\""
=======
    "unid = \"u0384041\""
>>>>>>> 2ca4523c2bd2e5338818c5a35e3f1f4e2d0585b9
=======
    "unid = \"<YOUR_UNID>\""
>>>>>>> 09331ea4b8d8275f594b54db26a2f64d56fe6fcf
   ]
  },
  {
   "cell_type": "markdown",
   "metadata": {},
   "source": [
    "Let's take a look what is currently in the BRAT directory"
   ]
  },
  {
   "cell_type": "code",
   "execution_count": null,
   "metadata": {},
<<<<<<< HEAD
   "outputs": [
    {
     "name": "stdout",
     "output_type": "stream",
     "text": [
<<<<<<< HEAD
      "total 36\n",
=======
      "total 68\n",
>>>>>>> 2ca4523c2bd2e5338818c5a35e3f1f4e2d0585b9
      "drwxrwsrwx+ 6 www-data   www-data 4096 Jan 27 02:42 Example_projects\n",
      "drwxrwsrwx+ 4 www-data   www-data 4096 Feb 11 00:27 u0073711\n",
      "drwxrwsrwx+ 4 www-data   www-data 4096 Feb  8 22:25 u0384041\n",
      "drwxrwsrwx+ 4 www-data   www-data 4096 Feb  8 22:12 u0410167\n",
<<<<<<< HEAD
      "drwxrwsrwx+ 4 1205863991 www-data 4096 Feb  9 05:05 u0426888\n",
      "drwxrwsrwx+ 4 1841664699 www-data 4096 Feb 12 00:24 u0883495\n",
      "drwxrwsrwx+ 4 www-data   www-data 4096 Feb  8 02:57 u0927327\n",
      "drwxrwsrwx+ 3  154303961 www-data 4096 Feb 13 22:24 U0941142\n",
      "drwxrwsrwx+ 4 www-data   www-data 4096 Feb  6 03:16 u6008208\n"
=======
      "drwxrwsrwx+ 3 1205934027 www-data 4096 Feb 15 23:47 u0420717\n",
      "drwxrwsrwx+ 4 1205863991 www-data 4096 Feb  9 05:05 u0426888\n",
      "drwxrwsrwx+ 3 1205877030 www-data 4096 Feb 15 11:03 u0499179\n",
      "drwxrwsrwx+ 3 1205960040 www-data 4096 Feb 15 23:48 u0585043\n",
      "drwxrwsrwx+ 3  154362546 www-data 4096 Feb 15 23:47 u0608777\n",
      "drwxrwsrwx+ 4 1841664699 www-data 4096 Feb 12 00:24 u0883495\n",
      "drwxrwsrwx+ 4 www-data   www-data 4096 Feb  8 02:57 u0927327\n",
      "drwxrwsrwx+ 4  154303961 www-data 4096 Feb 15 21:54 U0941142\n",
      "drwxrwsrwx+ 4 1841664925 www-data 4096 Feb 14 04:42 u1166466\n",
      "drwxrwsrwx+ 4 1841668982 www-data 4096 Feb 15 23:48 u1188401\n",
      "drwxrwsrwx+ 2  154373828 www-data 4096 Feb 15 23:48 u6003665\n",
      "drwxrwsrwx+ 4 www-data   www-data 4096 Feb  6 03:16 u6008208\n",
      "drwxrwsrwx+ 3 1205960040 www-data 4096 Feb 15 23:05 YOUR_UNID\n"
>>>>>>> 2ca4523c2bd2e5338818c5a35e3f1f4e2d0585b9
     ]
    }
   ],
=======
   "outputs": [],
>>>>>>> 09331ea4b8d8275f594b54db26a2f64d56fe6fcf
   "source": [
    "%%bash\n",
    "ls -l ~/BRAT/"
   ]
  },
  {
   "cell_type": "markdown",
   "metadata": {},
   "source": [
    "Now let's create your directory"
   ]
  },
  {
   "cell_type": "code",
   "execution_count": null,
   "metadata": {},
<<<<<<< HEAD
   "outputs": [
    {
     "name": "stdout",
     "output_type": "stream",
     "text": [
<<<<<<< HEAD
      "total 53\n",
      "drwsrwsrwx+ 13 www-data   www-data 4096 Feb 14 04:41 .\n",
      "drwxr-xr-x  11 u1166466   users    4096 Feb 14 04:36 ..\n",
=======
      "total 81\n",
      "drwsrwsrwx+ 20 www-data   www-data 4096 Feb 15 23:48 .\n",
      "drwxr-xr-x  13 u0384041   users    4096 Feb 15 03:36 ..\n",
>>>>>>> 2ca4523c2bd2e5338818c5a35e3f1f4e2d0585b9
      "drwxrwsrwx+  6 www-data   www-data 4096 Jan 27 02:42 Example_projects\n",
      "drwsrwsrwx+  2 www-data   www-data 4096 Jan  7 03:52 .ipynb_checkpoints\n",
      "-rwxrwxrwx   1 www-data   www-data    6 Feb 12 00:28 .stats_cache\n",
      "drwxrwsrwx+  4 www-data   www-data 4096 Feb 11 00:27 u0073711\n",
      "drwxrwsrwx+  4 www-data   www-data 4096 Feb  8 22:25 u0384041\n",
      "drwxrwsrwx+  4 www-data   www-data 4096 Feb  8 22:12 u0410167\n",
<<<<<<< HEAD
      "drwxrwsrwx+  4 1205863991 www-data 4096 Feb  9 05:05 u0426888\n",
      "drwxrwsrwx+  4 1841664699 www-data 4096 Feb 12 00:24 u0883495\n",
      "drwxrwsrwx+  4 www-data   www-data 4096 Feb  8 02:57 u0927327\n",
      "drwxrwsrwx+  3  154303961 www-data 4096 Feb 13 22:24 U0941142\n",
      "drwxrwsrwx+  2 u1166466   www-data 4096 Feb 14 04:41 u1166466\n",
      "drwxrwsrwx+  4 www-data   www-data 4096 Feb  6 03:16 u6008208\n"
=======
      "drwxrwsrwx+  3 1205934027 www-data 4096 Feb 15 23:47 u0420717\n",
      "drwxrwsrwx+  4 1205863991 www-data 4096 Feb  9 05:05 u0426888\n",
      "drwxrwsrwx+  3 1205877030 www-data 4096 Feb 15 11:03 u0499179\n",
      "drwxrwsrwx+  3 1205960040 www-data 4096 Feb 15 23:48 u0585043\n",
      "drwxrwsrwx+  3  154362546 www-data 4096 Feb 15 23:47 u0608777\n",
      "drwxrwsrwx+  4 1841664699 www-data 4096 Feb 12 00:24 u0883495\n",
      "drwxrwsrwx+  4 www-data   www-data 4096 Feb  8 02:57 u0927327\n",
      "drwxrwsrwx+  4  154303961 www-data 4096 Feb 15 21:54 U0941142\n",
      "drwxrwsrwx+  4 1841664925 www-data 4096 Feb 14 04:42 u1166466\n",
      "drwxrwsrwx+  4 1841668982 www-data 4096 Feb 15 23:48 u1188401\n",
      "drwxrwsrwx+  2  154373828 www-data 4096 Feb 15 23:48 u6003665\n",
      "drwxrwsrwx+  4 www-data   www-data 4096 Feb  6 03:16 u6008208\n",
      "drwxrwsrwx+  3 1205960040 www-data 4096 Feb 15 23:05 YOUR_UNID\n"
     ]
    },
    {
     "name": "stderr",
     "output_type": "stream",
     "text": [
      "mkdir: cannot create directory ‘/home/u0384041/BRAT/u0384041’: File exists\n"
>>>>>>> 2ca4523c2bd2e5338818c5a35e3f1f4e2d0585b9
     ]
    }
   ],
=======
   "outputs": [],
>>>>>>> 09331ea4b8d8275f594b54db26a2f64d56fe6fcf
   "source": [
    "%%bash  -s \"$unid\"\n",
    "mkdir ~/BRAT/$1\n",
    "\n",
    "ls -la ~/BRAT/"
   ]
  },
  {
   "cell_type": "markdown",
   "metadata": {},
   "source": [
    "Your workspace directory is now created. Let's take a look what is inside the directory that you just created."
   ]
  },
  {
   "cell_type": "code",
   "execution_count": 4,
   "metadata": {},
   "outputs": [
    {
     "name": "stdout",
     "output_type": "stream",
     "text": [
      "/home/u1166466/BRAT/u1166466/\n"
     ]
    }
   ],
   "source": [
    "%%bash  -s \"$unid\"\n",
    "echo ~/BRAT/$1/\n",
    "ls ~/BRAT/$1 "
   ]
  },
  {
   "cell_type": "markdown",
   "metadata": {},
   "source": [
    " Now let's copy the Example project into your workspace so that you can work with these files without interfering with other students."
   ]
  },
  {
   "cell_type": "code",
<<<<<<< HEAD
<<<<<<< HEAD
   "execution_count": 5,
=======
   "execution_count": 4,
>>>>>>> 2ca4523c2bd2e5338818c5a35e3f1f4e2d0585b9
=======
   "execution_count": null,
>>>>>>> 09331ea4b8d8275f594b54db26a2f64d56fe6fcf
   "metadata": {},
   "outputs": [],
   "source": [
    "%%bash -s \"$unid\"\n",
    "cp -r ~/BRAT/Example_projects/Example  ~/BRAT/$1"
   ]
  },
  {
   "cell_type": "markdown",
   "metadata": {},
   "source": [
    "Let's check if the files got copied."
   ]
  },
  {
   "cell_type": "code",
<<<<<<< HEAD
<<<<<<< HEAD
   "execution_count": 6,
=======
   "execution_count": 5,
>>>>>>> 2ca4523c2bd2e5338818c5a35e3f1f4e2d0585b9
   "metadata": {},
   "outputs": [
    {
     "name": "stdout",
     "output_type": "stream",
     "text": [
<<<<<<< HEAD
      "/home/u1166466/BRAT/u1166466/Example\n",
      "Example\n"
=======
      "/home/u0384041/BRAT/u0384041/Example /home/u0384041/BRAT/u0384041/Project_1\n",
      "Example\n",
      "Project_1\n"
>>>>>>> 2ca4523c2bd2e5338818c5a35e3f1f4e2d0585b9
     ]
    }
   ],
=======
   "execution_count": null,
   "metadata": {},
   "outputs": [],
>>>>>>> 09331ea4b8d8275f594b54db26a2f64d56fe6fcf
   "source": [
    "%%bash  -s \"$unid\"\n",
    "echo ~/BRAT/$1/*\n",
    "ls   ~/BRAT/$1/ "
   ]
  },
  {
   "cell_type": "markdown",
   "metadata": {},
   "source": [
    "There is a new folder in the directory. "
   ]
  },
  {
   "cell_type": "code",
   "execution_count": 7,
   "metadata": {},
   "outputs": [
    {
     "name": "stdout",
     "output_type": "stream",
     "text": [
      "/home/u1166466/BRAT/u1166466/Example\n",
      "annotation.conf\n",
      "note01.ann\n",
      "note01.txt\n",
      "tools.config\n",
      "visual.conf\n"
     ]
    }
   ],
   "source": [
    "%%bash  -s \"$unid\"\n",
    "echo ~/BRAT/$1/Example \n",
    "ls  ~/BRAT/$1/Example "
   ]
  },
  {
   "cell_type": "markdown",
   "metadata": {},
   "source": [
    "And now your workspace has a new directory with files."
   ]
  }
 ],
 "metadata": {
  "kernelspec": {
   "display_name": "Python 3",
   "language": "python",
   "name": "python3"
  },
  "language_info": {
   "codemirror_mode": {
    "name": "ipython",
    "version": 3
   },
   "file_extension": ".py",
   "mimetype": "text/x-python",
   "name": "python",
   "nbconvert_exporter": "python",
   "pygments_lexer": "ipython3",
   "version": "3.6.4"
  }
 },
 "nbformat": 4,
 "nbformat_minor": 2
}
