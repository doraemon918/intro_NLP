{
 "cells": [
  {
   "cell_type": "markdown",
   "metadata": {},
   "source": [
    "## Workspace setup\n",
    "\n",
    "We are using brat annotation tool to practice setting up manual annotation project. Brat is a browser based tool that requires text files to be placed in a folder within brat directory. To avoid annotation conflict with other students, you need to create your workspace within BRAT directory. \n",
    "\n",
    "This notebook demonstrates how run bash commands within Jupyter notebook. \n",
    "\n",
    "To avoid any unintentional file manipulations, please set variable unid to your UNID. That will be the name of your workspace."
   ]
  },
  {
   "cell_type": "code",
   "execution_count": null,
   "metadata": {},
   "outputs": [],
   "source": [
    "# Set variable unid to your UNID\n",
    "\n",
    "unid = \"<YOUR_UNID>\""
   ]
  },
  {
   "cell_type": "markdown",
   "metadata": {},
   "source": [
    "Let's take a look what is currently in the BRAT directory"
   ]
  },
  {
   "cell_type": "code",
   "execution_count": null,
   "metadata": {},
   "outputs": [],
   "source": [
    "%%bash\n",
    "ls -l ~/BRAT/"
   ]
  },
  {
   "cell_type": "markdown",
   "metadata": {},
   "source": [
    "Now let's create your directory"
   ]
  },
  {
   "cell_type": "code",
   "execution_count": null,
   "metadata": {},
   "outputs": [],
   "source": [
    "%%bash  -s \"$unid\"\n",
    "mkdir ~/BRAT/$1\n",
    "\n",
    "ls -la ~/BRAT/"
   ]
  },
  {
   "cell_type": "markdown",
   "metadata": {},
   "source": [
    "Your workspace directory is now created. Let's take a look what is inside the directory that you just created."
   ]
  },
  {
   "cell_type": "code",
   "execution_count": null,
   "metadata": {},
   "outputs": [],
   "source": [
    "%%bash  -s \"$unid\"\n",
    "echo ~/BRAT/$1/\n",
    "ls ~/BRAT/$1 "
   ]
  },
  {
   "cell_type": "markdown",
   "metadata": {},
   "source": [
    " Now let's copy the Example project into your workspace so that you can work with these files without interfering with other students."
   ]
  },
  {
   "cell_type": "code",
   "execution_count": null,
   "metadata": {},
   "outputs": [],
   "source": [
    "%%bash -s \"$unid\"\n",
    "cp -r ~/BRAT/Example_projects/Example  ~/BRAT/$1"
   ]
  },
  {
   "cell_type": "markdown",
   "metadata": {},
   "source": [
    "Let's check if the files got copied."
   ]
  },
  {
   "cell_type": "code",
   "execution_count": null,
   "metadata": {},
   "outputs": [],
   "source": [
    "%%bash  -s \"$unid\"\n",
    "echo ~/BRAT/$1/*\n",
    "ls   ~/BRAT/$1/ "
   ]
  },
  {
   "cell_type": "markdown",
   "metadata": {},
   "source": [
    "There is a new folder in the directory. "
   ]
  },
  {
   "cell_type": "code",
   "execution_count": null,
   "metadata": {},
   "outputs": [],
   "source": [
    "%%bash  -s \"$unid\"\n",
    "echo ~/BRAT/$1/Example \n",
    "ls  ~/BRAT/$1/Example "
   ]
  },
  {
   "cell_type": "markdown",
   "metadata": {},
   "source": [
    "And now your workspace has a new directory with files."
   ]
  }
 ],
 "metadata": {
  "kernelspec": {
   "display_name": "Python 3",
   "language": "python",
   "name": "python3"
  },
  "language_info": {
   "codemirror_mode": {
    "name": "ipython",
    "version": 3
   },
   "file_extension": ".py",
   "mimetype": "text/x-python",
   "name": "python",
   "nbconvert_exporter": "python",
   "pygments_lexer": "ipython3",
   "version": "3.6.4"
  }
 },
 "nbformat": 4,
 "nbformat_minor": 2
}
