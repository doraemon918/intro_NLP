{
 "cells": [
  {
   "cell_type": "markdown",
   "metadata": {},
   "source": [
    "## Creating annotation schema\n",
    "\n",
    "Manual annotation is a process of marking documents with annotations that can be used to train or test a natural language processing system. We are using brat annotation tool to acquire annotations for your final project. Setting up a project within brat tool requires a set of files:\n",
    "\n",
    "*    *.txt files - Text files to be annotated\n",
    "*    *.ann files - Annotation files that will store annotations\n",
    "*    annotation.conf: annotation type configuration\n",
    "*    visual.conf: annotation display configuration\n",
    "*    tools.conf: annotation tool configuration\n",
    "*    kb_shortcuts.conf: keyboard shortcut tool configuration\n",
    "\n",
    "Each annotation project typically defines its own annotation.conf. Defining visual.conf, tools.conf and kb_shortcuts.conf is not necessary, and the system falls back on simple default visuals, tools and shortcuts if these files are not present.\n",
    "\n",
    "We will first define the schema as a string variable and then write it into a file. Annotation schema will be created as ***annotation.conf*** file that has the following format:\n",
    "\n",
    "---\n",
    "\n",
    "     [entities]\n",
    "     [relations]\n",
    "     [events]\n",
    "     [attributes]\n",
    "     # This is a comment line. \n",
    "---\n",
    "\n",
    "\n",
    "Let's define schema for four annotation types:  temperature **term**, temperature **value**, **unit** of measure, and mentions of **fever**.\n",
    "\n",
    "Also, let's specify a **link** between termperature term and value, and between value and unit of measure.\n",
    "\n",
    "Also, let's define an **attribute** for Fever as either Affirmed or Negated\n",
    "\n"
   ]
  },
  {
   "cell_type": "code",
   "execution_count": null,
   "metadata": {},
   "outputs": [],
   "source": [
    "annotation_schema = \"\"\"\n",
    "[entities]\n",
    "Temperature\n",
    "Value\n",
    "Unit\n",
    "Fever\n",
    "\n",
    "[relations]\n",
    "Concept_Value   Arg1:<ENTITY>, Arg2:<ENTITY>\n",
    "Value_Unit      Arg1:Value, Arg2:Unit  \n",
    "\n",
    "[events]\n",
    "\n",
    "[attributes]\n",
    "Negation   Arg:Fever, Value:Negated\n",
    "Unit  Arg:Unit, Value:Celsius|Fahrenheit\n",
    "\n",
    "# This is a comment line. \n",
    "\"\"\""
   ]
  },
  {
   "cell_type": "markdown",
   "metadata": {},
   "source": [
    "Annotations look pretty when we add some color. \n",
    "The visual configuration file, ***visual.conf***, is divided into the following sections:\n",
    "\n",
    "---\n",
    "    [labels]\n",
    "    [drawing]\n",
    "---\n",
    "\n",
    "Each of these sections must be present in the configuration file, but they can be empty. \n",
    "\n",
    "The format of the [labels] section is simple: each line contains a set of strings, separated by pipe characters (\"|\"). The first string should correspond to a type defined in annotation.conf; the second is taken to be the preferred, full form to use for the type, and the remaining (if any) should correspond to its progressively shorter abbreviations. \n",
    "\n",
    "Drawing section specifies colors for your annotations.\n",
    "The recognized visual configuration keys, their values, and purpose are\n",
    "\n",
    "* fgColor: any HTML color specification (e.g. \"black\"), sets the color of a span text in the visualization.\n",
    "* bgColor: any HTML color specification (e.g. \"white\"), sets the color of a span \"box\" background in the visualization.\n",
    "* borderColor: any HTML color specification (e.g. \"black\"), sets the color of a span \"box\" border in the visualization. Also supports special value \"darken\", which specifies to use a darker shade of bgColor for the border.\n",
    "* color: any HTML color specification (e.g. \"black\"), sets the color of an arc in the visualization. \n",
    "\n",
    "[https://www.w3schools.com/html/html_colors.asp](https://www.w3schools.com/html/html_colors.asp)\n",
    "\n"
   ]
  },
  {
   "cell_type": "code",
   "execution_count": null,
   "metadata": {},
   "outputs": [],
   "source": [
    "visual = \"\"\"\n",
    "[labels]\n",
    "Temperature | Temperature | T\n",
    "Value | Value | V\n",
    "Unit | Unit | U\n",
    "Fever | Fever | F\n",
    "\n",
    "[drawing]\n",
    "SPAN_DEFAULT\tfgColor:black, bgColor:lightgreen, borderColor:darken\n",
    "ARC_DEFAULT\tcolor:black, bgColor:lightgreen, dashArray:-, arrowHead:triangle-5\n",
    "\n",
    "Temperature bgColor:pink, borderColor:red\n",
    "Value bgColor:#ee82ee\n",
    "Unit bgColor:#3cb371\n",
    "Fever bgColor:Orange\n",
    "\n",
    "Concept_Value color:darkgreen\n",
    "Value_Unit fgColor:blue\n",
    "\n",
    "Negation  box:crossed\n",
    "\"\"\""
   ]
  },
  {
   "cell_type": "markdown",
   "metadata": {},
   "source": [
    "There are two other configuration files that you can specify, but at this time we will keep them blank.\n",
    "\n",
    "## Wrting configurations into files\n",
    "\n",
    "To keep your documents separate from everyone elses, enter your UNID."
   ]
  },
  {
   "cell_type": "code",
   "execution_count": null,
   "metadata": {},
   "outputs": [],
   "source": [
    "unid = 'YOURR_UNID'\n",
    "project_name = 'Project_1'"
   ]
  },
  {
   "cell_type": "markdown",
   "metadata": {},
   "source": [
    "\n",
    "Check the folder just to see that you have prepared your workspace."
   ]
  },
  {
   "cell_type": "code",
   "execution_count": null,
   "metadata": {},
   "outputs": [],
   "source": [
    "%%bash  -s \"$unid\" \"$project_name\"\n",
    "echo ~/BRAT/$1/$2\n",
    "ls   ~/BRAT/$1/$2 "
   ]
  },
  {
   "cell_type": "markdown",
   "metadata": {},
   "source": [
    "Now let's write the files into the correct folder."
   ]
  },
  {
   "cell_type": "code",
   "execution_count": null,
   "metadata": {},
   "outputs": [],
   "source": [
    "path = \"/home/\"+str(unid)+\"/BRAT/\"+str(unid)+\"/\"+project_name\n",
    "path"
   ]
  },
  {
   "cell_type": "code",
   "execution_count": null,
   "metadata": {},
   "outputs": [],
   "source": [
    "annotation_conf_file=path+\"/annotation.conf\"\n",
    "f=open(annotation_conf_file, \"w\")\n",
    "f.write(annotation_schema)\n",
    "f.close()"
   ]
  },
  {
   "cell_type": "code",
   "execution_count": null,
   "metadata": {},
   "outputs": [],
   "source": [
    "visual_conf_file=path+\"/visual.conf\"\n",
    "f=open(visual_conf_file, \"w\")\n",
    "f.write(visual)\n",
    "f.close()"
   ]
  },
  {
   "cell_type": "markdown",
   "metadata": {},
   "source": [
    "Check to make sure that the files got written to the correct folder."
   ]
  },
  {
   "cell_type": "code",
   "execution_count": null,
   "metadata": {},
   "outputs": [],
   "source": [
    "%%bash  -s \"$unid\" \"$project_name\"\n",
    "echo ~/BRAT/$1/$2\n",
    "ls   ~/BRAT/$1/$2 "
   ]
  },
  {
   "cell_type": "markdown",
   "metadata": {},
   "source": [
    "### Now your project is setup and ready for annotation."
   ]
  }
 ],
 "metadata": {
  "kernelspec": {
   "display_name": "Python 3",
   "language": "python",
   "name": "python3"
  },
  "language_info": {
   "codemirror_mode": {
    "name": "ipython",
    "version": 3
   },
   "file_extension": ".py",
   "mimetype": "text/x-python",
   "name": "python",
   "nbconvert_exporter": "python",
   "pygments_lexer": "ipython3",
   "version": "3.6.4"
  }
 },
 "nbformat": 4,
 "nbformat_minor": 2
}
