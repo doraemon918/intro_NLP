{
 "cells": [
  {
   "cell_type": "markdown",
   "metadata": {},
   "source": [
    "## Document selection for manual anntoation\n",
    "\n",
    "Manual annotation is a process of marking documents with annotations that can be used to train or test a natural language processing system. We are using brat annotation tool to acquire annotations for your final project. \n",
    "Setting up a project within brat tool requires a set of files:\n",
    "- *.txt files - Text files to be annotated\n",
    "- *.ann files - Annotation files that will store annotations\n",
    "- annotation.conf: annotation type configuration\n",
    "- visual.conf: annotation display configuration\n",
    "- tools.conf: annotation tool configuration\n",
    "- kb_shortcuts.conf: keyboard shortcut tool configuration\n",
    "\n",
    "Each annotation project typically defines its own annotation.conf. Defining visual.conf, tools.conf and kb_shortcuts.conf is not necessary, and the system falls back on simple default visuals, tools and shortcuts if these files are not present. \n",
    "\n",
    "First we need to select files to be annotated. For our project we will draw documents from MIMIC database.\n",
    "\n",
    "Let's connect to the database (remember, the password to the database is the same as the user name):\n"
   ]
  },
  {
   "cell_type": "code",
   "execution_count": null,
   "metadata": {},
   "outputs": [],
   "source": [
    "import pymysql\n",
    "import pandas as pd\n",
    "import getpass\n",
    "conn = pymysql.connect(host=\"mysql\",\n",
    "                       port=3306,user=\"jovyan\",\n",
    "                       passwd=getpass.getpass(\"Enter MySQL passwd for jovyan\"),db='mimic2')"
   ]
  },
  {
   "cell_type": "markdown",
   "metadata": {},
   "source": [
    "We have connected to the database. Let's see the tables that we have to work with."
   ]
  },
  {
   "cell_type": "code",
   "execution_count": null,
   "metadata": {},
   "outputs": [],
   "source": [
    "pd.read_sql(\"SELECT table_name, table_rows FROM information_schema.tables where table_schema='mimic2'\", conn)"
   ]
  },
  {
   "cell_type": "markdown",
   "metadata": {},
   "source": [
    "There are quite a few tables to explore and you should do it for your project. The documents are in \"noteevents\" table. Let's see what columns this table has. "
   ]
  },
  {
   "cell_type": "code",
   "execution_count": null,
   "metadata": {},
   "outputs": [],
   "source": [
    "pd.read_sql(\"SELECT column_name, is_nullable, column_type FROM information_schema.columns WHERE table_name = 'noteevents'\",conn)\n"
   ]
  },
  {
   "cell_type": "markdown",
   "metadata": {},
   "source": [
    "Note that there are only two fields that are not nullable, which means that cannot be blank, so they have a potential to be the primary key. Let's take a look at what the data looks like:"
   ]
  },
  {
   "cell_type": "code",
   "execution_count": null,
   "metadata": {},
   "outputs": [],
   "source": [
    "pd.read_sql(\"SELECT subject_id, charttime, text  from noteevents where text is not null limit 10\",conn)\n"
   ]
  },
  {
   "cell_type": "markdown",
   "metadata": {},
   "source": [
    " The table does not have document id, but has \"subject_id\" as a patient identifier. This is a limitation of a Demo dataset. NOTEID column exists in the full MIMIC database, but not in the current demo version. We will have to come up with a unique name for the documents.\n",
    " \n",
    "### Select documents from the databse\n",
    "\n",
    "For this demo, we will select 10 random documents from \"noteevents\" table that contain a keyword that we are interested in."
   ]
  },
  {
   "cell_type": "code",
   "execution_count": null,
   "metadata": {},
   "outputs": [],
   "source": [
    "docs_text = pd.read_sql(\"SELECT subject_id, text from noteevents   where text like '% fever %' order by rand() limit  10\",conn)\n",
    "docs_text"
   ]
  },
  {
   "cell_type": "markdown",
   "metadata": {},
   "source": [
    "Iterate through the documents to see what they look like."
   ]
  },
  {
   "cell_type": "code",
   "execution_count": null,
   "metadata": {},
   "outputs": [],
   "source": [
    "for index, row in docs_text.iterrows():\n",
    "    print(index, row[0], row[1])"
   ]
  },
  {
   "cell_type": "markdown",
   "metadata": {},
   "source": [
    "### Wrting documents into files\n",
    "\n",
    "To keep your documents separate from everyone elses, enter your UNID. "
   ]
  },
  {
   "cell_type": "code",
   "execution_count": null,
   "metadata": {},
   "outputs": [],
   "source": [
    "unid = 'YOUR_UNID'"
   ]
  },
  {
   "cell_type": "markdown",
   "metadata": {},
   "source": [
    "Check the folder just to see that you have prepared your workspace."
   ]
  },
  {
   "cell_type": "code",
   "execution_count": null,
   "metadata": {},
   "outputs": [],
   "source": [
    "%%bash  -s \"$unid\"\n",
    "echo ~/BRAT/$1/*\n",
    "ls   ~/BRAT/$1/ "
   ]
  },
  {
   "cell_type": "markdown",
   "metadata": {},
   "source": [
    "Create a folder for your project. Let's name it \"Project_1\""
   ]
  },
  {
   "cell_type": "code",
   "execution_count": null,
   "metadata": {},
   "outputs": [],
   "source": [
    "%%bash  -s \"$unid\"\n",
    "mkdir   ~/BRAT/$1/Project_1 \n",
    "echo ~/BRAT/$1/*\n",
    "ls   ~/BRAT/$1/ "
   ]
  },
  {
   "cell_type": "markdown",
   "metadata": {},
   "source": [
    "The project is created, so now we can write our files. Text files from \"text\" field will contain the note text, and the file name will be a combination of subject_id and the row index from the data frame. This combination will create a unique name for your files. \".ann\" files are blank at first."
   ]
  },
  {
   "cell_type": "code",
   "execution_count": null,
   "metadata": {},
   "outputs": [],
   "source": [
    "path = \"/home/\"+str(unid)+\"/BRAT/\"+str(unid)+\"/Project_1\"\n",
    "for index, row in docs_text.iterrows():\n",
    "    new_file_path_txt = path+\"/\"+str(row[0]) + \"_\" + str(index) + \".txt\" \n",
    "    new_file_path_ann = path+\"/\"+str(row[0]) + \"_\" + str(index) + \".ann\" \n",
    "    print(new_file_path_txt)\n",
    "    print(new_file_path_ann)   \n",
    "    "
   ]
  },
  {
   "cell_type": "code",
   "execution_count": null,
   "metadata": {},
   "outputs": [],
   "source": [
    "for index, row in docs_text.iterrows():\n",
    "    new_file_path_txt = path+\"/\"+str(row[0]) + \"_\" + str(index) + \".txt\" \n",
    "    new_file_path_ann = path+\"/\"+str(row[0]) + \"_\" + str(index) + \".ann\" \n",
    "    f=open(new_file_path_txt, \"w\")\n",
    "    f.write(row[1])\n",
    "    f.close()\n",
    "    f=open(new_file_path_ann, \"w\")\n",
    "    f.write(\"\")\n",
    "    f.close()"
   ]
  },
  {
   "cell_type": "markdown",
   "metadata": {},
   "source": [
    "Check to make sure that the files got written to the correct folder."
   ]
  },
  {
   "cell_type": "code",
   "execution_count": null,
   "metadata": {},
   "outputs": [],
   "source": [
    "%%bash  -s \"$unid\"  \n",
    "ls   ~/BRAT/$1/Project_1/*"
   ]
  },
  {
   "cell_type": "markdown",
   "metadata": {},
   "source": [
    "Now you have files to annotate."
   ]
  }
 ],
 "metadata": {
  "kernelspec": {
   "display_name": "Python 3",
   "language": "python",
   "name": "python3"
  },
  "language_info": {
   "codemirror_mode": {
    "name": "ipython",
    "version": 3
   },
   "file_extension": ".py",
   "mimetype": "text/x-python",
   "name": "python",
   "nbconvert_exporter": "python",
   "pygments_lexer": "ipython3",
   "version": "3.6.4"
  }
 },
 "nbformat": 4,
 "nbformat_minor": 2
}
