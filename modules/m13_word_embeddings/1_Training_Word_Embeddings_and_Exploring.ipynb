{
 "cells": [
  {
   "cell_type": "markdown",
   "metadata": {},
   "source": [
    "# Requirements for this notebook:\n",
    "1. Internet connection (to download corpora and tokenizer data with calls to nltk.download())\n",
    "2. The following packages:\n",
    "  1. nltk (Anaconda or PIP command line install : pip install -U nltk OR conda install nltk)\n",
    "  2. gensim (pip install -U gensim)\n",
    "  3. scikit-learn v0.18.1 (pip install -U scikit-learn)\n",
    "  4. matplotlib (pip install -U matplotlib)\n",
    "  5. numpy (pip install -U numpy)"
   ]
  },
  {
   "cell_type": "markdown",
   "metadata": {},
   "source": [
    "# Objectives of this notebook are to illustrate how we can do the following with word embeddings:\n",
    "1. Train from scratch\n",
    "2. Explore embeddings vectors\n",
    "3. Use these for an NLP task"
   ]
  },
  {
   "cell_type": "code",
   "execution_count": 1,
   "metadata": {
    "collapsed": true
   },
   "outputs": [],
   "source": [
    "import os\n",
    "import pickle\n",
    "import time\n",
    "import logging\n",
    "from collections import defaultdict"
   ]
  },
  {
   "cell_type": "markdown",
   "metadata": {},
   "source": [
    "# NLTK page : http://www.nltk.org/"
   ]
  },
  {
   "cell_type": "code",
   "execution_count": 2,
   "metadata": {},
   "outputs": [
    {
     "data": {
      "text/plain": [
       "'3.2.3'"
      ]
     },
     "execution_count": 2,
     "metadata": {},
     "output_type": "execute_result"
    }
   ],
   "source": [
    "import nltk\n",
    "nltk.__version__"
   ]
  },
  {
   "cell_type": "markdown",
   "metadata": {},
   "source": [
    "# Gensim page : https://radimrehurek.com/gensim/index.html"
   ]
  },
  {
   "cell_type": "code",
   "execution_count": 3,
   "metadata": {},
   "outputs": [
    {
     "name": "stderr",
     "output_type": "stream",
     "text": [
      "c:\\anaconda3\\lib\\site-packages\\gensim\\utils.py:1197: UserWarning: detected Windows; aliasing chunkize to chunkize_serial\n",
      "  warnings.warn(\"detected Windows; aliasing chunkize to chunkize_serial\")\n"
     ]
    },
    {
     "data": {
      "text/plain": [
       "'3.4.0'"
      ]
     },
     "execution_count": 3,
     "metadata": {},
     "output_type": "execute_result"
    }
   ],
   "source": [
    "import gensim\n",
    "gensim.__version__"
   ]
  },
  {
   "cell_type": "markdown",
   "metadata": {},
   "source": [
    "# Scikit-learn page : http://scikit-learn.org/stable/"
   ]
  },
  {
   "cell_type": "code",
   "execution_count": 50,
   "metadata": {},
   "outputs": [
    {
     "data": {
      "text/plain": [
       "'0.19.1'"
      ]
     },
     "execution_count": 50,
     "metadata": {},
     "output_type": "execute_result"
    }
   ],
   "source": [
    "import sklearn\n",
    "from sklearn.manifold import TSNE\n",
    "from sklearn.linear_model import LogisticRegression\n",
    "from sklearn.pipeline import Pipeline\n",
    "from sklearn.cross_validation import train_test_split\n",
    "from sklearn.metrics import f1_score\n",
    "from sklearn.metrics import roc_auc_score\n",
    "from sklearn.feature_extraction.text import CountVectorizer\n",
    "from sklearn.feature_extraction.text import TfidfVectorizer\n",
    "from sklearn.feature_extraction.text import TfidfTransformer\n",
    "from sklearn.pipeline import FeatureUnion\n",
    "sklearn.__version__"
   ]
  },
  {
   "cell_type": "code",
   "execution_count": 5,
   "metadata": {},
   "outputs": [
    {
     "data": {
      "text/plain": [
       "'1.14.0'"
      ]
     },
     "execution_count": 5,
     "metadata": {},
     "output_type": "execute_result"
    }
   ],
   "source": [
    "import numpy as np\n",
    "np.__version__"
   ]
  },
  {
   "cell_type": "code",
   "execution_count": 6,
   "metadata": {
    "collapsed": true
   },
   "outputs": [],
   "source": [
    "import matplotlib.pyplot as plt"
   ]
  },
  {
   "cell_type": "code",
   "execution_count": 7,
   "metadata": {
    "collapsed": true
   },
   "outputs": [],
   "source": [
    "%matplotlib inline"
   ]
  },
  {
   "cell_type": "code",
   "execution_count": 8,
   "metadata": {
    "collapsed": true
   },
   "outputs": [],
   "source": [
    "from gensim.models import Word2Vec"
   ]
  },
  {
   "cell_type": "code",
   "execution_count": 9,
   "metadata": {},
   "outputs": [
    {
     "name": "stdout",
     "output_type": "stream",
     "text": [
      "[nltk_data] Downloading package brown to\n",
      "[nltk_data]     C:\\Users\\slick\\AppData\\Roaming\\nltk_data...\n",
      "[nltk_data]   Package brown is already up-to-date!\n",
      "Wall time: 1.31 s\n"
     ]
    },
    {
     "data": {
      "text/plain": [
       "True"
      ]
     },
     "execution_count": 9,
     "metadata": {},
     "output_type": "execute_result"
    }
   ],
   "source": [
    "%time nltk.download('brown')"
   ]
  },
  {
   "cell_type": "code",
   "execution_count": 10,
   "metadata": {},
   "outputs": [
    {
     "name": "stdout",
     "output_type": "stream",
     "text": [
      "[nltk_data] Downloading package movie_reviews to\n",
      "[nltk_data]     C:\\Users\\slick\\AppData\\Roaming\\nltk_data...\n",
      "[nltk_data]   Package movie_reviews is already up-to-date!\n",
      "Wall time: 93.1 ms\n"
     ]
    },
    {
     "data": {
      "text/plain": [
       "True"
      ]
     },
     "execution_count": 10,
     "metadata": {},
     "output_type": "execute_result"
    }
   ],
   "source": [
    "%time nltk.download('movie_reviews')"
   ]
  },
  {
   "cell_type": "code",
   "execution_count": 11,
   "metadata": {},
   "outputs": [
    {
     "name": "stdout",
     "output_type": "stream",
     "text": [
      "[nltk_data] Downloading package treebank to\n",
      "[nltk_data]     C:\\Users\\slick\\AppData\\Roaming\\nltk_data...\n",
      "[nltk_data]   Package treebank is already up-to-date!\n",
      "Wall time: 33 ms\n"
     ]
    },
    {
     "data": {
      "text/plain": [
       "True"
      ]
     },
     "execution_count": 11,
     "metadata": {},
     "output_type": "execute_result"
    }
   ],
   "source": [
    "%time nltk.download('treebank')"
   ]
  },
  {
   "cell_type": "code",
   "execution_count": 12,
   "metadata": {},
   "outputs": [
    {
     "name": "stdout",
     "output_type": "stream",
     "text": [
      "[nltk_data] Downloading package punkt to\n",
      "[nltk_data]     C:\\Users\\slick\\AppData\\Roaming\\nltk_data...\n",
      "[nltk_data]   Package punkt is already up-to-date!\n",
      "Wall time: 30 ms\n"
     ]
    },
    {
     "data": {
      "text/plain": [
       "True"
      ]
     },
     "execution_count": 12,
     "metadata": {},
     "output_type": "execute_result"
    }
   ],
   "source": [
    "# Let's download the PUNKT tokenizer first so that we can use tokenize words and sentences\n",
    "%time nltk.download('punkt')"
   ]
  },
  {
   "cell_type": "code",
   "execution_count": 13,
   "metadata": {},
   "outputs": [
    {
     "name": "stdout",
     "output_type": "stream",
     "text": [
      "[nltk_data] Downloading package stopwords to\n",
      "[nltk_data]     C:\\Users\\slick\\AppData\\Roaming\\nltk_data...\n",
      "[nltk_data]   Package stopwords is already up-to-date!\n",
      "Wall time: 7.01 ms\n"
     ]
    },
    {
     "data": {
      "text/plain": [
       "True"
      ]
     },
     "execution_count": 13,
     "metadata": {},
     "output_type": "execute_result"
    }
   ],
   "source": [
    "# Let's download stopwords so we can plot them later\n",
    "%time nltk.download('stopwords')"
   ]
  },
  {
   "cell_type": "code",
   "execution_count": 14,
   "metadata": {
    "collapsed": true
   },
   "outputs": [],
   "source": [
    "from nltk.corpus import brown\n",
    "from nltk.corpus import movie_reviews\n",
    "from nltk.corpus import treebank"
   ]
  },
  {
   "cell_type": "code",
   "execution_count": null,
   "metadata": {
    "collapsed": true
   },
   "outputs": [],
   "source": []
  },
  {
   "cell_type": "code",
   "execution_count": 15,
   "metadata": {
    "scrolled": true
   },
   "outputs": [
    {
     "name": "stdout",
     "output_type": "stream",
     "text": [
      "['The', 'Fulton', 'County', 'Grand', 'Jury', 'said', 'Friday', 'an', 'investigation', 'of', \"Atlanta's\", 'recent', 'primary', 'election', 'produced', '``', 'no', 'evidence', \"''\", 'that', 'any', 'irregularities', 'took', 'place', '.']\n",
      "['plot', ':', 'two', 'teen', 'couples', 'go', 'to', 'a', 'church', 'party', ',', 'drink', 'and', 'then', 'drive', '.']\n",
      "['Pierre', 'Vinken', ',', '61', 'years', 'old', ',', 'will', 'join', 'the', 'board', 'as', 'a', 'nonexecutive', 'director', 'Nov.', '29', '.']\n"
     ]
    }
   ],
   "source": [
    "print(brown.sents()[0])\n",
    "print(movie_reviews.sents()[0])\n",
    "print(treebank.sents()[0])"
   ]
  },
  {
   "cell_type": "markdown",
   "metadata": {},
   "source": [
    "# Pro Tip : These corpora are relatively small.  We may not get great results.  Certainly not as large as GoogleNews, Wikipedia, PubMed, etc.  Our mileage may vary"
   ]
  },
  {
   "cell_type": "code",
   "execution_count": 16,
   "metadata": {},
   "outputs": [
    {
     "name": "stdout",
     "output_type": "stream",
     "text": [
      "Brown sentence count :  57340\n",
      "Movie Review sentence count :  71532\n",
      "Treebank sentence count :  3914\n"
     ]
    }
   ],
   "source": [
    "# How many sentences do we have in each corpus?\n",
    "print('Brown sentence count : ', len(brown.sents()))\n",
    "print('Movie Review sentence count : ', len(movie_reviews.sents()))\n",
    "print('Treebank sentence count : ', len(treebank.sents()))"
   ]
  },
  {
   "cell_type": "markdown",
   "metadata": {},
   "source": [
    "# Pro Tip : Before we go on, it's good to know about the GenSim documentation for models, training, querying, etc:\n",
    "https://radimrehurek.com/gensim/models/word2vec.html"
   ]
  },
  {
   "cell_type": "code",
   "execution_count": 17,
   "metadata": {
    "collapsed": true
   },
   "outputs": [],
   "source": [
    "# Let's determine what parameters we will use for the word2vec training\n",
    "W2V_SKIP_GRAM = 0\n",
    "W2V_DIMENSIONS = 200\n",
    "W2V_MIN_COUNT = 3"
   ]
  },
  {
   "cell_type": "code",
   "execution_count": 18,
   "metadata": {
    "collapsed": true
   },
   "outputs": [],
   "source": [
    "# How many worker threads should we use to train?  Depends on your hardware...\n",
    "W2V_WORKERS = 1"
   ]
  },
  {
   "cell_type": "markdown",
   "metadata": {},
   "source": [
    "# Let's train some models..."
   ]
  },
  {
   "cell_type": "code",
   "execution_count": 19,
   "metadata": {},
   "outputs": [
    {
     "name": "stdout",
     "output_type": "stream",
     "text": [
      "Wall time: 21.1 s\n"
     ]
    }
   ],
   "source": [
    "%time brown_model = Word2Vec(brown.sents(), sg = W2V_SKIP_GRAM, size = W2V_DIMENSIONS, min_count = W2V_MIN_COUNT, workers = W2V_WORKERS)"
   ]
  },
  {
   "cell_type": "code",
   "execution_count": 20,
   "metadata": {},
   "outputs": [
    {
     "name": "stdout",
     "output_type": "stream",
     "text": [
      "Wall time: 16.8 s\n"
     ]
    }
   ],
   "source": [
    "%time movie_model = Word2Vec(movie_reviews.sents(), sg = W2V_SKIP_GRAM, size = W2V_DIMENSIONS, min_count = W2V_MIN_COUNT, workers = W2V_WORKERS)"
   ]
  },
  {
   "cell_type": "code",
   "execution_count": 21,
   "metadata": {},
   "outputs": [
    {
     "name": "stdout",
     "output_type": "stream",
     "text": [
      "Wall time: 8.86 s\n"
     ]
    }
   ],
   "source": [
    "%time treebank_model = Word2Vec(treebank.sents(), sg = W2V_SKIP_GRAM, size = W2V_DIMENSIONS, min_count = W2V_MIN_COUNT, workers = W2V_WORKERS)"
   ]
  },
  {
   "cell_type": "code",
   "execution_count": 22,
   "metadata": {},
   "outputs": [
    {
     "name": "stdout",
     "output_type": "stream",
     "text": [
      "Brown Model vocab size :  22339\n",
      "Movie Review Model vocab size :  20261\n",
      "Treebank Model vocab size :  3959\n"
     ]
    }
   ],
   "source": [
    "print('Brown Model vocab size : ', len(brown_model.wv.vocab))\n",
    "print('Movie Review Model vocab size : ', len(movie_model.wv.vocab))\n",
    "print('Treebank Model vocab size : ', len(treebank_model.wv.vocab))"
   ]
  },
  {
   "cell_type": "markdown",
   "metadata": {},
   "source": [
    "# Save / Load models"
   ]
  },
  {
   "cell_type": "code",
   "execution_count": 23,
   "metadata": {},
   "outputs": [
    {
     "name": "stdout",
     "output_type": "stream",
     "text": [
      "Saved Model to : brown_04_03_2018\n"
     ]
    }
   ],
   "source": [
    "# Before we go any further, we can save one of our models\n",
    "brown_file_name = 'brown_' + time.strftime(\"%m_%d_%Y\")\n",
    "brown_model.save(brown_file_name)\n",
    "print('Saved Model to : ' + brown_file_name)"
   ]
  },
  {
   "cell_type": "code",
   "execution_count": 24,
   "metadata": {},
   "outputs": [
    {
     "name": "stdout",
     "output_type": "stream",
     "text": [
      "Brown LOADED Model vocab size :  22339\n"
     ]
    }
   ],
   "source": [
    "# and here's how we can load a model back in...\n",
    "brown_loaded_model = Word2Vec.load(brown_file_name)\n",
    "print('Brown LOADED Model vocab size : ', len(brown_loaded_model.wv.vocab))"
   ]
  },
  {
   "cell_type": "markdown",
   "metadata": {},
   "source": [
    "# Let's start inspect our newly trained vectors"
   ]
  },
  {
   "cell_type": "code",
   "execution_count": 25,
   "metadata": {},
   "outputs": [
    {
     "name": "stdout",
     "output_type": "stream",
     "text": [
      "[ 2.59127706e-01  1.52354091e-01 -5.69023378e-02 -5.15864909e-01\n",
      " -1.06529556e-01  1.28482226e-02 -1.51655510e-01  4.94149029e-01\n",
      "  6.43230602e-02  6.01709224e-02  2.22001001e-01 -1.93830859e-02\n",
      " -2.39645794e-01 -3.80990794e-04 -2.59032428e-01  5.03605187e-01\n",
      " -2.27974683e-01  6.93302453e-02 -2.41728902e-01  9.95101556e-02\n",
      "  1.34007325e-02 -9.42114517e-02 -8.48590136e-02  1.06964603e-01\n",
      " -1.75238296e-01  2.01124921e-01  7.24101514e-02  7.26098865e-02\n",
      " -1.88948676e-01 -3.94286096e-01  4.13226336e-01 -1.18280545e-01\n",
      "  3.68341655e-01 -7.83325732e-02  9.09637883e-02 -3.53684694e-01\n",
      "  1.55832037e-01 -1.21346682e-01 -5.06082997e-02 -2.94076540e-02\n",
      " -5.58237508e-02  3.56515609e-02 -2.10375711e-02  6.01168573e-01\n",
      " -9.10363197e-02  2.49435931e-01 -8.77437815e-02 -7.92432427e-02\n",
      "  1.53992593e-01 -3.50584567e-01  4.16920781e-01 -3.01868469e-01\n",
      " -2.13853613e-01 -5.53695932e-02 -3.84234965e-01  5.36060512e-01\n",
      "  1.25686184e-01 -3.41000631e-02  4.00762260e-01  4.34889406e-01\n",
      "  1.25592396e-01 -1.99613154e-01 -2.71002911e-02 -6.60946518e-02\n",
      " -3.57946455e-01 -1.95114955e-01  5.90209246e-01  2.03845784e-01\n",
      "  2.58208662e-01 -3.95262450e-01  1.19010657e-02  4.37459916e-01\n",
      " -4.28766049e-02  9.11236927e-02  7.14861155e-02 -2.15371937e-01\n",
      " -3.59777287e-02  1.42213702e-01  5.84004410e-02  1.33465111e-01\n",
      "  2.19839811e-01  7.32809067e-01 -3.37012559e-01  1.57165781e-01\n",
      "  2.40579337e-01  1.42973110e-01 -1.69225201e-01 -2.80107588e-01\n",
      "  2.99039096e-01 -6.22369982e-02  1.45791054e-01 -1.57616943e-01\n",
      "  8.81002471e-02  2.06617787e-01  6.91359192e-02 -3.11260931e-02\n",
      "  9.23733339e-02  9.35149342e-02  6.57637045e-02 -2.34503284e-01\n",
      "  2.09103584e-01  1.73693910e-01 -3.91315550e-01 -1.07829846e-01\n",
      " -3.64313543e-01 -1.38059258e-01 -1.39070868e-01  8.64401273e-03\n",
      "  2.55740583e-01 -1.98535860e-01 -1.30463734e-01  3.28487813e-01\n",
      "  2.22392485e-01  3.44293863e-01 -5.83557546e-01 -3.56348366e-01\n",
      "  7.96008781e-02  3.31085056e-01 -5.29608607e-01 -5.03091276e-01\n",
      " -1.90264523e-01 -1.67469963e-01  5.66334687e-02 -2.65490025e-01\n",
      " -2.32770637e-01  2.55719602e-01 -2.03440785e-01 -2.22043768e-01\n",
      " -2.06436723e-01 -1.41660169e-01  8.07067752e-03 -2.25535959e-01\n",
      " -2.43547171e-01  4.98235613e-01 -5.46451621e-02  2.69879878e-01\n",
      " -1.09924048e-01 -1.95672065e-01  1.55825287e-01 -1.00404084e-01\n",
      "  5.11574388e-01  5.06645627e-02  2.00038552e-01 -2.08069876e-01\n",
      " -1.82214156e-02  3.16378683e-01 -4.41584110e-01  2.65699297e-01\n",
      " -3.71415943e-01  6.38982058e-02  1.12150446e-01  1.73061818e-01\n",
      " -1.22503422e-01 -2.39587188e-01 -2.91342828e-02  4.21621241e-02\n",
      " -2.20357627e-01  6.46514744e-02 -3.18871647e-01 -2.97733489e-02\n",
      " -2.80470133e-01 -2.85403728e-02  4.08656925e-01 -2.85216957e-01\n",
      " -2.12517813e-01  1.84352696e-02 -6.58494979e-02 -2.70139724e-01\n",
      " -5.70863664e-01  5.25326505e-02  2.04707548e-01 -2.51494255e-02\n",
      " -1.53955787e-01 -2.09590390e-01  1.71701849e-01  3.15241367e-01\n",
      "  3.11348587e-01  2.38372281e-01 -2.35058859e-01 -1.56789914e-01\n",
      "  2.88823813e-01 -3.37606639e-01  7.97687322e-02 -4.82049882e-01\n",
      "  1.71526656e-01 -5.96942186e-01  1.60120964e-01 -3.86023700e-01\n",
      " -3.98069918e-01  8.79534930e-02  3.24037299e-02 -3.04852396e-01\n",
      "  2.61918664e-01 -1.32483184e-01 -1.71774685e-01  2.26069421e-01\n",
      " -5.05079664e-02 -1.17820606e-01 -3.69233489e-02  5.17142676e-02]\n"
     ]
    },
    {
     "name": "stderr",
     "output_type": "stream",
     "text": [
      "c:\\anaconda3\\lib\\site-packages\\ipykernel_launcher.py:2: DeprecationWarning: Call to deprecated `__getitem__` (Method will be removed in 4.0.0, use self.wv.__getitem__() instead).\n",
      "  \n"
     ]
    }
   ],
   "source": [
    "# Now let's inspect what some of these vectors look like\n",
    "print(brown_model['business'])"
   ]
  },
  {
   "cell_type": "code",
   "execution_count": 26,
   "metadata": {},
   "outputs": [
    {
     "name": "stdout",
     "output_type": "stream",
     "text": [
      "[('film', 0.9491060972213745), ('picture', 0.8604193925857544), ('sequel', 0.7510938048362732), ('case', 0.7210004329681396), ('premise', 0.7034192085266113), ('ending', 0.6967005729675293), ('story', 0.6836234331130981), ('thing', 0.675144374370575), ('plot', 0.6652858853340149), ('comedy', 0.6594986915588379)]\n"
     ]
    }
   ],
   "source": [
    "print(movie_model.wv.most_similar(positive = ['movie'], topn = 10))"
   ]
  },
  {
   "cell_type": "code",
   "execution_count": 27,
   "metadata": {},
   "outputs": [
    {
     "name": "stdout",
     "output_type": "stream",
     "text": [
      "[('jason', 0.9455857276916504), ('neve', 0.9440292119979858), ('steve', 0.9436220526695251), ('scott', 0.9402381777763367), ('platt', 0.938184916973114), ('douglas', 0.9368475079536438), ('thomas', 0.9353066682815552), ('matthew', 0.9344907999038696), ('matt', 0.9313673377037048), ('keaton', 0.9309273958206177)]\n"
     ]
    }
   ],
   "source": [
    "print(movie_model.wv.most_similar(positive = ['hanks'], topn = 10))"
   ]
  },
  {
   "cell_type": "code",
   "execution_count": 28,
   "metadata": {},
   "outputs": [
    {
     "name": "stdout",
     "output_type": "stream",
     "text": [
      "0.94910604981174\n",
      "0.9133817386292723\n",
      "0.9983094148835323\n"
     ]
    }
   ],
   "source": [
    "# Now let's see how similar certain word pairs might be\n",
    "TERM_SIMILARITY_1 = 'movie'\n",
    "TERM_SIMILARITY_2 = 'film'\n",
    "\n",
    "print(movie_model.wv.similarity(TERM_SIMILARITY_1, TERM_SIMILARITY_2))\n",
    "print(brown_model.wv.similarity(TERM_SIMILARITY_1, TERM_SIMILARITY_2))\n",
    "print(treebank_model.wv.similarity(TERM_SIMILARITY_1, TERM_SIMILARITY_2))"
   ]
  },
  {
   "cell_type": "code",
   "execution_count": 29,
   "metadata": {},
   "outputs": [
    {
     "name": "stdout",
     "output_type": "stream",
     "text": [
      "0.2272028520466016\n",
      "0.6787667476137159\n",
      "0.9995407047190894\n"
     ]
    }
   ],
   "source": [
    "# Now let's try another pair\n",
    "TERM_SIMILARITY_3 = 'computer'\n",
    "TERM_SIMILARITY_4 = 'life'\n",
    "\n",
    "print(movie_model.wv.similarity(TERM_SIMILARITY_3, TERM_SIMILARITY_4))\n",
    "print(brown_model.wv.similarity(TERM_SIMILARITY_3, TERM_SIMILARITY_4))\n",
    "print(treebank_model.wv.similarity(TERM_SIMILARITY_3, TERM_SIMILARITY_4))"
   ]
  },
  {
   "cell_type": "code",
   "execution_count": null,
   "metadata": {
    "collapsed": true
   },
   "outputs": [],
   "source": []
  },
  {
   "cell_type": "code",
   "execution_count": 30,
   "metadata": {},
   "outputs": [
    {
     "name": "stdout",
     "output_type": "stream",
     "text": [
      "[('various', 0.96407550573349), ('classes', 0.9579411745071411), ('churches', 0.9535273313522339), ('universities', 0.948974072933197), ('heads', 0.9488418698310852), ('towns', 0.94521164894104), ('meetings', 0.9451631903648376), ('buildings', 0.9438415765762329), ('organizations', 0.9438236951828003), ('positions', 0.9429529905319214)]\n"
     ]
    }
   ],
   "source": [
    "# Can we replicate the famous example from this paper:\n",
    "# \"King - Man + Woman ~~ Queen\"\n",
    "# http://www.aclweb.org/anthology/N13-1#page=784\n",
    "#RELATIONSHIP_WORD_1 = 'woman'\n",
    "#RELATIONSHIP_WORD_2 = 'king'\n",
    "#RELATIONSHIP_WORD_3 = 'man'\n",
    "\n",
    "# this gives what we might expect from the MOVIE corpus\n",
    "#RELATIONSHIP_WORD_1 = 'films'\n",
    "#RELATIONSHIP_WORD_2 = 'movie'\n",
    "#RELATIONSHIP_WORD_3 = 'film'\n",
    "\n",
    "# this gives what we might expect from the BROWN corpus\n",
    "RELATIONSHIP_WORD_1 = 'families'\n",
    "RELATIONSHIP_WORD_2 = 'city'\n",
    "RELATIONSHIP_WORD_3 = 'family'\n",
    "\n",
    "#print(movie_model.wv.most_similar(positive=[RELATIONSHIP_WORD_1, RELATIONSHIP_WORD_2], negative=[RELATIONSHIP_WORD_3]))\n",
    "print(brown_model.wv.most_similar(positive=[RELATIONSHIP_WORD_1, RELATIONSHIP_WORD_2], negative=[RELATIONSHIP_WORD_3]))\n",
    "# apparently this corpus does not have one of our target words (KING)\n",
    "#treebank_model.most_similar(positive=[RELATIONSHIP_WORD_1, RELATIONSHIP_WORD_2], negative=['man'])"
   ]
  },
  {
   "cell_type": "markdown",
   "metadata": {},
   "source": [
    "# Now let's try to visualize some of the embeddings vectors with reduced dimensions (by way of t-SNE)"
   ]
  },
  {
   "cell_type": "code",
   "execution_count": 31,
   "metadata": {},
   "outputs": [
    {
     "data": {
      "image/png": "[encoded data removed]",
      "text/plain": [
       "<matplotlib.figure.Figure at 0x1d2ae306278>"
      ]
     },
     "metadata": {},
     "output_type": "display_data"
    }
   ],
   "source": [
    "def plot_embeddings(w2v_model, target_terms):\n",
    "    tsne = TSNE(n_components=2, random_state=0)\n",
    "    np.set_printoptions(suppress=True)\n",
    "    term_vectors = []\n",
    "    # let's make sure that a term we want is in the model\n",
    "    for target_term in target_terms:\n",
    "        if target_term in w2v_model.wv.vocab:\n",
    "            term_vectors.append(w2v_model.wv[target_term])\n",
    "    Y = tsne.fit_transform(term_vectors)\n",
    "    \n",
    "    # let's make this plot a decent size...\n",
    "    # Get current size\n",
    "    fig_size = plt.rcParams[\"figure.figsize\"]\n",
    "    # Set figure width and height\n",
    "    fig_size[0] = 15\n",
    "    fig_size[1] = 9\n",
    "    plt.rcParams[\"figure.figsize\"] = fig_size\n",
    " \n",
    "    plt.scatter(Y[:, 0], Y[:, 1])\n",
    "    for label, x, y in zip(target_terms, Y[:, 0], Y[:, 1]):\n",
    "        plt.annotate(label, xy=(x, y), xytext=(0, 0), textcoords='offset points')\n",
    "    plt.show()\n",
    "    \n",
    "max_movie_sentences_to_visualize = 8\n",
    "visualization_terms = set()\n",
    "for sentence in movie_reviews.sents()[:max_movie_sentences_to_visualize]:\n",
    "    for token in sentence:\n",
    "        visualization_terms.add(token)\n",
    "    \n",
    "plot_embeddings(movie_model, list(visualization_terms))"
   ]
  },
  {
   "cell_type": "code",
   "execution_count": 32,
   "metadata": {},
   "outputs": [
    {
     "data": {
      "image/png": "[encoded data removed]",
      "text/plain": [
       "<matplotlib.figure.Figure at 0x1d2b1677320>"
      ]
     },
     "metadata": {},
     "output_type": "display_data"
    }
   ],
   "source": [
    "def plot_embeddings_3d(w2v_model, target_terms, min_word_length = 2):\n",
    "    from mpl_toolkits.mplot3d import Axes3D\n",
    "    tsne = TSNE(n_components=3, random_state=0)\n",
    "    np.set_printoptions(suppress=True)\n",
    "    term_vectors = []\n",
    "    filtered_terms = []\n",
    "    # let's make sure that a term we want is in the model\n",
    "    for target_term in target_terms:\n",
    "        # make sure that we're either not filtering or its above a certain length\n",
    "        if min_word_length < 0 or len(target_term) > min_word_length:\n",
    "            if target_term in w2v_model.wv.vocab:\n",
    "                term_vectors.append(w2v_model.wv[target_term])\n",
    "                filtered_terms.append(target_term)\n",
    "    Y = tsne.fit_transform(term_vectors)\n",
    "    \n",
    "    # let's make this plot a decent size...\n",
    "    # Get current size\n",
    "    fig_size = plt.rcParams[\"figure.figsize\"]\n",
    "    # Set figure width and height\n",
    "    fig_size[0] = 15\n",
    "    fig_size[1] = 9\n",
    "    plt.rcParams[\"figure.figsize\"] = fig_size\n",
    " \n",
    "    fig = plt.gcf()\n",
    "    ax = fig.add_subplot(111, projection='3d')\n",
    "\n",
    "    ax.scatter(Y[:,0], Y[:,1], Y[:,2], marker='.')\n",
    "    for i, word in enumerate(filtered_terms):\n",
    "        ax.text(x=Y[i,0], y=Y[i,1], z=Y[i,2], s=word)\n",
    "    plt.show()\n",
    "    \n",
    "max_movie_sentences_to_visualize = 5\n",
    "visualization_terms = set()\n",
    "for sentence in movie_reviews.sents()[105:107]:\n",
    "    for token in sentence:\n",
    "        visualization_terms.add(token)\n",
    "    \n",
    "plot_embeddings_3d(movie_model, list(visualization_terms))"
   ]
  },
  {
   "cell_type": "code",
   "execution_count": 33,
   "metadata": {},
   "outputs": [
    {
     "name": "stdout",
     "output_type": "stream",
     "text": [
      "{'out', 'their', 'shan', 'where', 'below', 'should', 'll', \"hasn't\", \"you'd\", 'than', 'after', 'can', 'themselves', \"you've\", 'herself', 'yours', 'few', 'having', 'off', 'mustn', 'he', 'has', 'under', 'an', 'am', 'did', 'hasn', 'up', 'do', 'himself', 'haven', \"should've\", 'me', 'does', 'any', \"shan't\", 'mightn', 'in', 'have', 'some', 'aren', 'here', 'you', 'again', 'the', 'y', \"it's\", 'yourself', 'that', \"you'll\", 'are', \"she's\", \"couldn't\", \"that'll\", 'to', \"mustn't\", 'for', 'i', 'is', 'now', 'until', 'about', 'needn', 'wasn', 'or', 'further', 'own', 'd', 're', 'its', 'hers', 'no', 'just', 'which', 'yourselves', 'theirs', 'we', 'with', 'was', 'not', 'during', 'and', 'this', 'were', \"wouldn't\", 've', 'so', 'but', 'them', 'being', 'too', 'ma', 'weren', 'on', 'what', 'how', 'will', \"isn't\", 'before', \"won't\", \"doesn't\", 'only', 'very', 'didn', 'when', 'ours', 'at', 'won', 'ain', 'be', \"shouldn't\", 'same', 'whom', 'if', 'it', 'o', 'most', 'through', 'doesn', 'shouldn', 'his', 'our', 'over', 'once', \"aren't\", 'hadn', 'down', 'other', 'wouldn', 'your', \"don't\", 'she', 'nor', 'above', 'by', 'as', 't', 'from', 'because', 'both', 'each', \"hadn't\", 'isn', 'don', \"you're\", 'ourselves', 'who', \"weren't\", 's', 'doing', 'him', 'while', 'such', 'couldn', 'been', 'myself', \"haven't\", 'into', 'had', 'then', 'why', 'between', 'they', 'more', 'itself', 'of', 'those', \"wasn't\", 'these', 'against', \"mightn't\", 'm', \"didn't\", 'her', \"needn't\", 'my', 'a', 'all', 'there'}\n"
     ]
    },
    {
     "data": {
      "image/png": "[encoded data removed]",
      "text/plain": [
       "<matplotlib.figure.Figure at 0x1d2b16773c8>"
      ]
     },
     "metadata": {},
     "output_type": "display_data"
    }
   ],
   "source": [
    "# here are some terms we can plot...\n",
    "english_stop_words = set(nltk.corpus.stopwords.words('english'))\n",
    "print(english_stop_words)\n",
    "plot_terms = english_stop_words\n",
    "plot_embeddings(movie_model, plot_terms)"
   ]
  },
  {
   "cell_type": "markdown",
   "metadata": {},
   "source": [
    "# Now let's try to use these embeddings to do some classification. "
   ]
  },
  {
   "cell_type": "code",
   "execution_count": 46,
   "metadata": {},
   "outputs": [],
   "source": [
    "class MeanEmbeddingVectorizer(object):\n",
    "    def __init__(self, w2v_model):\n",
    "        self.w2v_model = w2v_model\n",
    "        self.vocab_size = len(w2v_model.wv.vocab)\n",
    "\n",
    "    def fit(self, X, y):\n",
    "        return self\n",
    "\n",
    "    def transform(self, X):\n",
    "        # this one uses the mean()\n",
    "        return np.array([\n",
    "            np.mean([self.w2v_model.wv[w] for w in words if w in self.w2v_model.wv]\n",
    "                    or [np.zeros(self.vocab_size)], axis=0)\n",
    "            for words in X\n",
    "        ])\n",
    "    \n",
    "class TfidfEmbeddingVectorizer(object):\n",
    "    def __init__(self, word2vec):\n",
    "        self.word2vec = word2vec\n",
    "        self.word2weight = None\n",
    "        self.dim = len(word2vec.wv.vocab)\n",
    "\n",
    "    def fit(self, X, y):\n",
    "        tfidf = TfidfVectorizer(analyzer=lambda x: x)\n",
    "        tfidf.fit(X)\n",
    "        # if a word was never seen - it must be at least as infrequent\n",
    "        # as any of the known words - so the default idf is the max of \n",
    "        # known idf's\n",
    "        max_idf = max(tfidf.idf_)\n",
    "        self.word2weight = defaultdict(\n",
    "            lambda: max_idf,\n",
    "            [(w, tfidf.idf_[i]) for w, i in tfidf.vocabulary_.items()])\n",
    "\n",
    "        return self\n",
    "\n",
    "    def transform(self, X):\n",
    "        return np.array([\n",
    "                np.mean([self.word2vec.wv[w] * self.word2weight[w]\n",
    "                         for w in words if w in self.word2vec.wv] or\n",
    "                        [np.zeros(self.dim)], axis=0)\n",
    "                for words in X\n",
    "            ])\n",
    "    \n",
    "class MaxEmbeddingVectorizer(object):\n",
    "    def __init__(self, w2v_model):\n",
    "        self.w2v_model = w2v_model\n",
    "        self.vocab_size = len(w2v_model.wv.vocab)\n",
    "\n",
    "    def fit(self, X, y):\n",
    "        return self\n",
    "\n",
    "    def transform(self, X):\n",
    "        # this one uses the max()\n",
    "        return np.array([\n",
    "            np.max([self.w2v_model.wv[w] for w in words if w in self.w2v_model.wv]\n",
    "                    or [np.zeros(self.vocab_size)], axis=0)\n",
    "            for words in X\n",
    "        ])\n",
    "    \n",
    "class TextTransformer(object):\n",
    "    def __init__(self):\n",
    "        self.initialized = True\n",
    "\n",
    "    def fit(self, X, y):\n",
    "        return self\n",
    "\n",
    "    def transform(self, X):\n",
    "        # this one uses the mean()\n",
    "        return [' '.join(sentence) for sentence in X]"
   ]
  },
  {
   "cell_type": "code",
   "execution_count": 35,
   "metadata": {},
   "outputs": [],
   "source": [
    "lr_mean_w2v = Pipeline([\n",
    "    (\"word2vec mean vectorizer\", MeanEmbeddingVectorizer(movie_model)),\n",
    "    (\"Logistic Regression\", LogisticRegression())\n",
    "])\n",
    "\n",
    "lr_max_w2v = Pipeline([\n",
    "    (\"word2vec max vectorizer\", MaxEmbeddingVectorizer(movie_model)),\n",
    "    (\"Logistic Regression\", LogisticRegression())\n",
    "])\n",
    "\n",
    "lr_tfidf_w2v = Pipeline([\n",
    "    (\"word2vec TF-IDF vectorizer\", TfidfEmbeddingVectorizer(movie_model)),\n",
    "    (\"Logistic Regression\", LogisticRegression())\n",
    "])"
   ]
  },
  {
   "cell_type": "code",
   "execution_count": 36,
   "metadata": {
    "collapsed": true
   },
   "outputs": [],
   "source": [
    "X = [movie_reviews.words(fileid) for fileid in movie_reviews.fileids()]\n",
    "# these are the categories\n",
    "y_categories = [movie_reviews.categories(fileid)[0] for fileid in movie_reviews.fileids()]\n",
    "# this maps the strings to 1 -> positive 0 -> negative (anything else)\n",
    "y = [1 if category == 'pos' else 0 for category in y_categories ]\n",
    "\n",
    "X_train, X_test, y_train, y_test = train_test_split(X, y, test_size=0.2, random_state = 777)"
   ]
  },
  {
   "cell_type": "code",
   "execution_count": 37,
   "metadata": {},
   "outputs": [
    {
     "name": "stdout",
     "output_type": "stream",
     "text": [
      "Word2Vec mean embeddings F1 : 0.6913580246913581\n"
     ]
    }
   ],
   "source": [
    "lr_mean_w2v.fit(X_train,y_train)\n",
    "\n",
    "mean_w2v_f1 = f1_score(y_test, lr_mean_w2v.predict(X_test))\n",
    "print('Word2Vec mean embeddings F1 : {}'.format(mean_w2v_f1))"
   ]
  },
  {
   "cell_type": "code",
   "execution_count": 38,
   "metadata": {},
   "outputs": [
    {
     "name": "stdout",
     "output_type": "stream",
     "text": [
      "Word2Vec max embeddings F1 : 0.5226666666666666\n"
     ]
    }
   ],
   "source": [
    "lr_max_w2v.fit(X_train,y_train)\n",
    "\n",
    "max_w2v_f1 = f1_score(y_test, lr_max_w2v.predict(X_test))\n",
    "print('Word2Vec max embeddings F1 : {}'.format(max_w2v_f1))"
   ]
  },
  {
   "cell_type": "code",
   "execution_count": 39,
   "metadata": {},
   "outputs": [
    {
     "name": "stdout",
     "output_type": "stream",
     "text": [
      "Word2Vec TF-IDF weighted embeddings F1 : 0.685\n"
     ]
    }
   ],
   "source": [
    "lr_tfidf_w2v.fit(X_train,y_train)\n",
    "\n",
    "tfidf_w2v_f1 = f1_score(y_test, lr_tfidf_w2v.predict(X_test))\n",
    "print('Word2Vec TF-IDF weighted embeddings F1 : {}'.format(tfidf_w2v_f1))"
   ]
  },
  {
   "cell_type": "markdown",
   "metadata": {},
   "source": [
    "# Let's also compare against a bag of words pipeline"
   ]
  },
  {
   "cell_type": "code",
   "execution_count": 55,
   "metadata": {},
   "outputs": [
    {
     "name": "stdout",
     "output_type": "stream",
     "text": [
      "Bag of Words F1 : 0.7804878048780488\n",
      "BOW + W2V AUC : 0.8763477173233271\n"
     ]
    }
   ],
   "source": [
    "# set up a simple bag of words model\n",
    "bow_pipeline = Pipeline([('vect', CountVectorizer()),\n",
    "                      ('tfidf', TfidfTransformer()),\n",
    "                      ('clf', LogisticRegression()),\n",
    "])\n",
    "\n",
    "X_train_text = [' '.join(sentence) for sentence in X_train]\n",
    "X_test_text = [' '.join(sentence) for sentence in X_test]\n",
    "bow_pipeline.fit(X_train_text,y_train)\n",
    "\n",
    "bow_f1 = f1_score(y_test, bow_pipeline.predict(X_test_text))\n",
    "print('Bag of Words F1 : {}'.format(bow_f1))\n",
    "print('BOW + W2V AUC : {}'.format(roc_auc_score(y_test, bow_pipeline.predict_proba(X_test_text)[:,1])))"
   ]
  },
  {
   "cell_type": "code",
   "execution_count": 41,
   "metadata": {},
   "outputs": [
    {
     "name": "stdout",
     "output_type": "stream",
     "text": [
      "Word cluster map size : 32666\n"
     ]
    }
   ],
   "source": [
    "CLUSTER_FILE_PATH = 'corpus_cluster_map.pickle'\n",
    "word_cluster_map = None\n",
    "with open(CLUSTER_FILE_PATH, 'rb') as f:\n",
    "    word_cluster_map = pickle.load(f)\n",
    "    \n",
    "print('Word cluster map size : {}'.format(len(word_cluster_map)))"
   ]
  },
  {
   "cell_type": "code",
   "execution_count": 42,
   "metadata": {
    "collapsed": true
   },
   "outputs": [
    {
     "name": "stdout",
     "output_type": "stream",
     "text": [
      "Size of clustered TRAIN set : 1600\n",
      "Size of clustered TEST set : 400\n",
      "Wall time: 2.7 s\n"
     ]
    }
   ],
   "source": [
    "%%time\n",
    "\n",
    "def transform_tokens_to_clusters(sentences, word_cluster_map, unknown_token = 'UNK'):\n",
    "    clustered_sentences = []\n",
    "    for sentence in sentences:\n",
    "        clustered_sentence = []\n",
    "        for token in sentence:\n",
    "            cluster = unknown_token\n",
    "            if token in word_cluster_map:\n",
    "                cluster = str(word_cluster_map[token])\n",
    "                \n",
    "            clustered_sentence.append(cluster)\n",
    "            \n",
    "        clustered_sentences.append(clustered_sentence)\n",
    "        \n",
    "    return clustered_sentences\n",
    "\n",
    "X_train_clustered = transform_tokens_to_clusters(X_train, word_cluster_map)\n",
    "X_test_clustered = transform_tokens_to_clusters(X_test, word_cluster_map)\n",
    "\n",
    "print('Size of clustered TRAIN set : {}'.format(len(X_train_clustered)))\n",
    "print('Size of clustered TEST set : {}'.format(len(X_test_clustered)))"
   ]
  },
  {
   "cell_type": "code",
   "execution_count": 43,
   "metadata": {},
   "outputs": [
    {
     "name": "stdout",
     "output_type": "stream",
     "text": [
      "Word Cluster F1 : 0.7317073170731707\n"
     ]
    }
   ],
   "source": [
    "# set up a simple bag of words model\n",
    "cluster_pipeline = Pipeline([('vect', CountVectorizer(ngram_range = (1,3))),\n",
    "                      #('tfidf', TfidfTransformer()),\n",
    "                      ('clf', LogisticRegression()),\n",
    "])\n",
    "\n",
    "X_train_clustered_text = [' '.join(sentence) for sentence in X_train_clustered]\n",
    "X_test_clustered_text = [' '.join(sentence) for sentence in X_test_clustered]\n",
    "cluster_pipeline.fit(X_train_clustered_text,y_train)\n",
    "\n",
    "cluster_f1 = f1_score(y_test, cluster_pipeline.predict(X_test_clustered_text))\n",
    "print('Word Cluster F1 : {}'.format(cluster_f1))"
   ]
  },
  {
   "cell_type": "code",
   "execution_count": 54,
   "metadata": {},
   "outputs": [
    {
     "name": "stdout",
     "output_type": "stream",
     "text": [
      "BOW + W2V F1 : 0.7574257425742574\n",
      "BOW + W2V AUC : 0.8265666041275797\n"
     ]
    }
   ],
   "source": [
    "combined_pipeline = Pipeline([\n",
    "                        # Use FeatureUnion to combine the features from subject and body\n",
    "    ('union', FeatureUnion(\n",
    "        transformer_list=[\n",
    "\n",
    "            # Pipeline for pulling features from the post's subject line\n",
    "            ('bow', Pipeline([\n",
    "                ('text', TextTransformer()),\n",
    "                ('vect', CountVectorizer()),\n",
    "                ('tfidf', TfidfTransformer())\n",
    "            ])),\n",
    "\n",
    "            # Pipeline for standard bag-of-words model for body\n",
    "            ('mean_w2v', Pipeline([\n",
    "                (\"word2vec mean vectorizer\", MeanEmbeddingVectorizer(movie_model))\n",
    "            ])),\n",
    "        ],\n",
    "    )),\n",
    "    ('clf', LogisticRegression()),\n",
    "])\n",
    "\n",
    "combined_pipeline.fit(X_train,y_train)\n",
    "\n",
    "combined_f1 = f1_score(y_test, combined_pipeline.predict(X_test))\n",
    "print('BOW + W2V F1 : {}'.format(combined_f1))\n",
    "print('BOW + W2V AUC : {}'.format(roc_auc_score(y_test, combined_pipeline.predict_proba(X_test)[:,1])))"
   ]
  },
  {
   "cell_type": "code",
   "execution_count": null,
   "metadata": {},
   "outputs": [],
   "source": []
  }
 ],
 "metadata": {
  "anaconda-cloud": {},
  "kernelspec": {
   "display_name": "Python 3",
   "language": "python",
   "name": "python3"
  },
  "language_info": {
   "codemirror_mode": {
    "name": "ipython",
    "version": 3
   },
   "file_extension": ".py",
   "mimetype": "text/x-python",
   "name": "python",
   "nbconvert_exporter": "python",
   "pygments_lexer": "ipython3",
   "version": "3.6.1"
  }
 },
 "nbformat": 4,
 "nbformat_minor": 2
}
