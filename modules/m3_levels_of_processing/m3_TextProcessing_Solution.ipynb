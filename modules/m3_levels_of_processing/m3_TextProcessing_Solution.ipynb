{
 "cells": [
  {
   "cell_type": "markdown",
   "metadata": {},
   "source": [
    "# (Reverse) Edit Distance\n",
    "\n",
    "Calculating the [edit distance](https://en.wikipedia.org/wiki/Edit_distance) between two strings means finding how many steps you need to get from one string to the next by using either substitution, deletion, or insertion. This can be useful for a number of applications, including spell-checking (what word did the user probably mean to type?) and evaluating spoken language systems (what word might the user have actually said?).\n",
    "\n",
    "Finding the Minimum Edit Distance between two strings is an example of a Dynamic Programming Algorithm, and it's a bit beyond the scope of this course (although you're encouraged to work on it if you want; (here is a lecture)[https://web.stanford.edu/class/cs124/lec/med.pdf] from Stanford on the subject). So, instead, we're going to do the reverse: given a string, we're going to generate strings that are `n` steps away. This will help us come up with new vocabulary terms, including possible misspellings. \n",
    "\n",
    "For example, if the string we start with is **\"eat\"**, here are some of the words we'd want to generate with an edit distance of 1:\n",
    "\n",
    "- **Substitution:** [\"aat\", \"azt\", \"eal\", ...]\n",
    "- **Deletion:** [\"at\", \"et\", \"ea\"]\n",
    "- **Insertion:** [\"beat\", \"euat\", \"east\", \"eats\"]\n",
    "\n",
    "With an edit distance of 2, we could take all of the words we generated above and then do the same operations on each of them (\"eat\" => \"aat\" => \"alt\"). \n",
    "\n",
    "Note that most of the words we generate are not actual words. A few are, and some may even be useful words. For example, \"eats\" is an inflected form of \"eat\" and could be considered the same word. But even some of the non-words could be useful. For example, if we use this method to expand our vocabulary, we may catch instances where the clinician wrote \"cardac arrest\" instead of \"cardiac arrest\". To make sure we're not adding junk to our vocabulary, we could do a simple search to make sure that the \"word\" appears in the corpus at least one or more times."
   ]
  },
  {
   "cell_type": "markdown",
   "metadata": {},
   "source": [
    "### Problem X. \n",
    "Complete the code below for `EditDistance`. Here is a walk-through of the algorithm.\n",
    "\n",
    "`def gen_edit_words(word):`\n",
    "\n",
    "#### **Parameters**:\n",
    "- `word`: the word that we will be manipulating\n",
    "\n",
    "#### **Algorithm**:\n",
    "- Create an empty list called `gen_words`.\n",
    "\n",
    "**STEP 1: Subsitution**\n",
    "- For integer `i` in len(`word`): \n",
    "    - for each `letter` in the alphabet (a-z):\n",
    "        - Create `new_word` where `word[i]` is replaced with `letter`.\n",
    "        - Append `new_word` to `gen_words`\n",
    "\n",
    "**STEP 2: Deletion**\n",
    "- For integer `i` in len(`word`):\n",
    "    - Create `new_word` where `word[i]` is deleted\n",
    "    - Append `new_word` to `gen_words`\n",
    "\n",
    "**STEP 3: Insertion**\n",
    "- For integer `i` in len(`word`):\n",
    "    - for each `letter` in the alphabet (a-z):\n",
    "        - Create `new_word` where  `letter` is placed between `word[i]` and `word[i-1]`.\n",
    "        - Append `new_word` to `gen_words`\n",
    "            \n",
    "- Return `gen_words`\n",
    "     \n",
    "         "
   ]
  },
  {
   "cell_type": "code",
   "execution_count": 3,
   "metadata": {},
   "outputs": [],
   "source": [
    "import string\n",
    "class EditDistanceGenerator():\n",
    "    def __init__(self):\n",
    "        pass\n",
    "        \n",
    "    \n",
    "    def gen_edit_words(self, word):\n",
    "        # TODO: Write this method to generate all possible words 1-away from the given word\n",
    "        gen_words = []\n",
    "        gen_words.extend(self.gen_words_sub(word))\n",
    "        gen_words.extend(self.gen_words_del(word))\n",
    "        gen_words.extend(self.gen_words_insrt(word))\n",
    "        return list(set(gen_words))\n",
    "    \n",
    "    \n",
    "    def gen_words_sub(self, word):\n",
    "        # TODO: Write this method to generate words 1-away from the given word using substitution\n",
    "        to_return = []\n",
    "        for i in range(len(word)):\n",
    "            for letter in string.ascii_lowercase:\n",
    "                gen = word[:i]\n",
    "                gen += letter\n",
    "                gen += word[i+1:]\n",
    "                 # if the generated word is the same as the original word, do not add it to the list\n",
    "                if gen != word:\n",
    "                    to_return.append(gen)                \n",
    "        return to_return\n",
    "    \n",
    "    \n",
    "    def gen_words_del(self, word):\n",
    "        # TODO: Write this method to generate words 1-away from the given word using deletion\n",
    "        to_return = []\n",
    "        for i in range(len(word)):\n",
    "            gen = word[:i]\n",
    "            gen += word[i+1:]\n",
    "            to_return.append(gen)\n",
    "        return to_return\n",
    "    \n",
    "        \n",
    "    def gen_words_insrt(self, word):\n",
    "        # TODO: Write this method to generate words 1-away from the given word using insertion\n",
    "        to_return = []\n",
    "        for i in range(len(word) + 1):\n",
    "            for letter in string.ascii_lowercase:\n",
    "                gen = word[:i]\n",
    "                gen += letter\n",
    "                gen += word[i:]\n",
    "                to_return.append(gen)\n",
    "        return to_return\n"
   ]
  },
  {
   "cell_type": "code",
   "execution_count": 4,
   "metadata": {},
   "outputs": [
    {
     "name": "stdout",
     "output_type": "stream",
     "text": [
      "230\n",
      "['aord', 'aword', 'bord', 'bword', 'cord', 'cword', 'dord', 'dword', 'eord', 'eword', 'ford', 'fword', 'gord', 'gword', 'hord', 'hword', 'iord', 'iword', 'jord', 'jword', 'kord', 'kword', 'lord', 'lword', 'mord', 'mword', 'nord', 'nword', 'oord', 'ord', 'oword', 'pord', 'pword', 'qord', 'qword', 'rord', 'rword', 'sord', 'sword', 'tord', 'tword', 'uord', 'uword', 'vord', 'vword', 'waord', 'ward', 'wbord', 'wbrd', 'wcord', 'wcrd', 'wdord', 'wdrd', 'weord', 'werd', 'wford', 'wfrd', 'wgord', 'wgrd', 'whord', 'whrd', 'wiord', 'wird', 'wjord', 'wjrd', 'wkord', 'wkrd', 'wlord', 'wlrd', 'wmord', 'wmrd', 'wnord', 'wnrd', 'woad', 'woard', 'wobd', 'wobrd', 'wocd', 'wocrd', 'wod', 'wodd', 'wodrd', 'woed', 'woerd', 'wofd', 'wofrd', 'wogd', 'wogrd', 'wohd', 'wohrd', 'woid', 'woird', 'wojd', 'wojrd', 'wokd', 'wokrd', 'wold', 'wolrd', 'womd', 'womrd', 'wond', 'wonrd', 'wood', 'woord', 'wopd', 'woprd', 'woqd', 'woqrd', 'wor', 'wora', 'worad', 'worb', 'worbd', 'worc', 'worcd', 'worda', 'wordb', 'wordc', 'wordd', 'worde', 'wordf', 'wordg', 'wordh', 'wordi', 'wordj', 'wordk', 'wordl', 'wordm', 'wordn', 'wordo', 'wordp', 'wordq', 'wordr', 'words', 'wordt', 'wordu', 'wordv', 'wordw', 'wordx', 'wordy', 'wordz', 'wore', 'wored', 'worf', 'worfd', 'worg', 'worgd', 'worh', 'worhd', 'wori', 'worid', 'worj', 'worjd', 'work', 'workd', 'worl', 'world', 'worm', 'wormd', 'worn', 'wornd', 'woro', 'worod', 'worp', 'worpd', 'worq', 'worqd', 'worr', 'worrd', 'wors', 'worsd', 'wort', 'wortd', 'woru', 'worud', 'worv', 'worvd', 'worw', 'worwd', 'worx', 'worxd', 'wory', 'woryd', 'worz', 'worzd', 'wosd', 'wosrd', 'wotd', 'wotrd', 'woud', 'wourd', 'wovd', 'wovrd', 'wowd', 'wowrd', 'woxd', 'woxrd', 'woyd', 'woyrd', 'wozd', 'wozrd', 'wpord', 'wprd', 'wqord', 'wqrd', 'wrd', 'wrord', 'wrrd', 'wsord', 'wsrd', 'wtord', 'wtrd', 'wuord', 'wurd', 'wvord', 'wvrd', 'wword', 'wwrd', 'wxord', 'wxrd', 'wyord', 'wyrd', 'wzord', 'wzrd', 'xord', 'xword', 'yord', 'yword', 'zord', 'zword']\n"
     ]
    }
   ],
   "source": [
    "edit = EditDistanceGenerator()\n",
    "gen_words = edit.gen_edit_words('word')\n",
    "print(len(gen_words))\n",
    "gen_words.sort()\n",
    "print(gen_words)"
   ]
  },
  {
   "cell_type": "code",
   "execution_count": null,
   "metadata": {},
   "outputs": [],
   "source": []
  }
 ],
 "metadata": {
  "kernelspec": {
   "display_name": "Python 3",
   "language": "python",
   "name": "python3"
  },
  "language_info": {
   "codemirror_mode": {
    "name": "ipython",
    "version": 3
   },
   "file_extension": ".py",
   "mimetype": "text/x-python",
   "name": "python",
   "nbconvert_exporter": "python",
   "pygments_lexer": "ipython3",
   "version": "3.6.4"
  }
 },
 "nbformat": 4,
 "nbformat_minor": 2
}
