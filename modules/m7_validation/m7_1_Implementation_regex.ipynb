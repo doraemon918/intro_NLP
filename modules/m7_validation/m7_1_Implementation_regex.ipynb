{
 "cells": [
  {
   "cell_type": "markdown",
   "metadata": {},
   "source": [
    "# Implementation\n",
    "\n",
    "System design outlines the main steps in the system processing. The same design can be implemented in multiple ways.\n",
    "\n",
    "### Consider the following use case\n",
    "We are tasked with finding possible symptoms of depression and labeling them with Negation context. \n",
    "\n",
    "In order to simplify future implementations as suggested by [Leidner 2003](Leidner_2003.pdf), we can utilize a framework. Framework (as opposed to toolkit - think NLTK) does not necessarily provide specific algorithms, but rather simplifies working with different algorithms by specifying data formats.\n",
    "\n",
    "This workbook illustrates a simple framework called [pipeUtils](pipeUtils_doc.html) that directs how data is represented during processing. \n",
    "\n",
    "The framwork has two main classes: Annotation and Document.\n"
   ]
  },
  {
   "cell_type": "code",
   "execution_count": null,
   "metadata": {
    "collapsed": true
   },
   "outputs": [],
   "source": [
    "from pipeUtils import Annotation\n",
    "from pipeUtils import Document"
   ]
  },
  {
   "cell_type": "markdown",
   "metadata": {},
   "source": [
    "Document is a container for all data related to a specific text passage. In its simple implementation, a document text can either be specified as a string:\n",
    "    \n",
    "    from pipeUtils import Document\n",
    "    doc = Document(text='This is the document text')\n",
    "    \n",
    "or loaded from a text file:"
   ]
  },
  {
   "cell_type": "code",
   "execution_count": null,
   "metadata": {
    "collapsed": true
   },
   "outputs": [],
   "source": [
    "doc = Document()\n",
    "doc.load_document_from_file('data/test.txt')"
   ]
  },
  {
   "cell_type": "markdown",
   "metadata": {},
   "source": [
    "Since we are working with brat annotation tool, our framework has functionality to read brat annotations into the document. Each annotation becomes an object of Annotation class."
   ]
  },
  {
   "cell_type": "code",
   "execution_count": null,
   "metadata": {
    "scrolled": true
   },
   "outputs": [],
   "source": [
    "doc.load_annotations_from_brat('data/test.ann')\n",
    "print(doc.toString())"
   ]
  },
  {
   "cell_type": "markdown",
   "metadata": {},
   "source": [
    "Now the document is loaded and the reference standard annotations are added.\n",
    "Let's add the processing logic.\n",
    "\n",
    "First, define target and negation keywords"
   ]
  },
  {
   "cell_type": "code",
   "execution_count": null,
   "metadata": {
    "collapsed": true
   },
   "outputs": [],
   "source": [
    "import re\n",
    "\n",
    "target_regexes = []\n",
    "regexes = ['pain',\n",
    "          'depres\\\\w+', #matches \"depres\" and one or more alphanumerics. Double slash needed inside a string\n",
    "          'suicidal\\\\s*ideation'  #\\\\s* means none or more white-space characters including new line\n",
    "          ]\n",
    "for reg in regexes:\n",
    "    target_regexes.append(re.compile(reg, re.IGNORECASE))\n",
    "    \n",
    "neg_regex = '(\\\\bno\\\\b|denies)'   # \\b matches word boundaries  #matchs \"no\", as separate word, OR \"denies\""
   ]
  },
  {
   "cell_type": "markdown",
   "metadata": {},
   "source": [
    "Second, search the document for the target keywords. \n",
    "If a target keyword is found, look at text right before the target keyword  (back 30 characters) and search for negation keyword."
   ]
  },
  {
   "cell_type": "code",
   "execution_count": null,
   "metadata": {
    "collapsed": true
   },
   "outputs": [],
   "source": [
    "ann_index=0\n",
    "for reg in target_regexes:\n",
    "    for match in reg.finditer(doc.text):\n",
    "        ann_id = 'NLP_'+ str(ann_index)\n",
    "        ann_index=ann_index+1\n",
    "        new_annotation = Annotation(start_index=int(match.start()), \n",
    "                                    end_index=int(match.end()), \n",
    "                                    type='DepressionSymptoms',\n",
    "                                    ann_id = ann_id\n",
    "                                    )\n",
    "        new_annotation.spanned_text = doc.text[new_annotation.start_index:new_annotation.end_index]\n",
    "        \n",
    "        # Check negation right before the found target up to 30 charachers before, \n",
    "        # making sure that the pre-text does not cross the text boundary and is valid\n",
    "        \n",
    "        if new_annotation.start_index - 30 > 0:\n",
    "            pre_text_start = new_annotation.start_index - 30\n",
    "        else:\n",
    "            pre_text_start = 0\n",
    "        \n",
    "        # ending index of the pre_text is the beginning of the found target    \n",
    "        pre_text_end = new_annotation.start_index    \n",
    "        \n",
    "        # substring the document text to identify the pre_text string\n",
    "        pre_text = doc.text[pre_text_start: pre_text_end]\n",
    "        \n",
    "        # We do not need to know the exact location of the negation keyword, so re.search is acceptable\n",
    "        if re.search(neg_regex, pre_text , re.IGNORECASE):\n",
    "            new_annotation.attributes[\"Negation\"] ='Negated'\n",
    "        doc.annotations.append(new_annotation)\n"
   ]
  },
  {
   "cell_type": "markdown",
   "metadata": {},
   "source": [
    "Now let's see what annotations are included in the document after processing"
   ]
  },
  {
   "cell_type": "code",
   "execution_count": null,
   "metadata": {
    "scrolled": true
   },
   "outputs": [],
   "source": [
    "print(doc.toString())"
   ]
  },
  {
   "cell_type": "markdown",
   "metadata": {},
   "source": [
    "### End of regex implementation"
   ]
  }
 ],
 "metadata": {
  "kernelspec": {
   "display_name": "Python 3",
   "language": "python",
   "name": "python3"
  },
  "language_info": {
   "codemirror_mode": {
    "name": "ipython",
    "version": 3
   },
   "file_extension": ".py",
   "mimetype": "text/x-python",
   "name": "python",
   "nbconvert_exporter": "python",
   "pygments_lexer": "ipython3",
   "version": "3.6.1"
  }
 },
 "nbformat": 4,
 "nbformat_minor": 2
}
