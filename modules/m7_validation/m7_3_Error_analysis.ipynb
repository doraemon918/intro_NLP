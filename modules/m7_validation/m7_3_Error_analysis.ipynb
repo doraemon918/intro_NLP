{
 "cells": [
  {
   "cell_type": "markdown",
   "metadata": {},
   "source": [
    "# Error analysis\n",
    "\n",
    "Let's implement our pipeline using the simpler regex implementation\n"
   ]
  },
  {
   "cell_type": "code",
   "execution_count": 1,
   "metadata": {},
   "outputs": [],
   "source": [
    "from pipeUtils import Annotation\n",
    "from pipeUtils import Document\n",
    "import re\n",
    "\n",
    "doc = Document()\n",
    "doc.load_document_from_file('data/test.txt')\n",
    "doc.load_annotations_from_brat('data/test.ann')\n",
    "\n",
    "target_regexes = []\n",
    "regexes = ['pain',\n",
    "          'depres\\\\w+',\n",
    "          'suicidal\\\\s*ideation'\n",
    "          ]\n",
    "for reg in regexes:\n",
    "    target_regexes.append(re.compile(reg, re.IGNORECASE))\n",
    "    \n",
    "neg_regex = '(\\\\bno\\\\b|denies)'\n",
    "\n",
    "for reg in target_regexes:\n",
    "    for match in reg.finditer(doc.text):\n",
    "        new_annotation = Annotation(start_index=int(match.start()), end_index=int(match.end()), type='DepressionSymptoms')\n",
    "        new_annotation.spanned_text = doc.text[new_annotation.start_index:new_annotation.end_index]\n",
    "        # Check negation right before the found target.\n",
    "        # Making sure that the pre_text is valid\n",
    "        if new_annotation.start_index - 30 > 0:\n",
    "            pre_text_start = new_annotation.start_index - 30\n",
    "        else:\n",
    "            pre_text_start = 0\n",
    "        pre_text = doc.text[pre_text_start: new_annotation.start_index]\n",
    "        \n",
    "        # We do not need to know the exact location of the negation keyword, so re.search is acceptable\n",
    "        if re.search(neg_regex, pre_text , re.IGNORECASE):\n",
    "            new_annotation.attributes[\"Negation\"] ='Negated'\n",
    "        doc.annotations.append(new_annotation)"
   ]
  },
  {
   "cell_type": "code",
   "execution_count": 7,
   "metadata": {},
   "outputs": [
    {
     "name": "stdout",
     "output_type": "stream",
     "text": [
      "test.txt\r\n",
      "-------\r\n",
      "General Medical Clinic\n",
      "05/28/2010 13:00\n",
      "\n",
      "\n",
      "CC\n",
      "Follow up depression.\n",
      "\n",
      "Subjective\n",
      "\n",
      "Depression\n",
      "The pt indicates Citalopram is helping control her depression symptoms but she continues to feel depressed most days.  Her sleep and fatigue have improved significantly with use of Citalopram.  She denies suicidal ideation.  Her PHQ-9 score is 18 today.\n",
      "\n",
      "Hypertension\n",
      "No Light-headedness.  The pt reports compliance with use of lisinopril and metoprolol.  She has been on these two medications for several years and has never used any other antihypertensive medications in her life.  She has not been checking her BP at home.\n",
      "\n",
      "Osteoarthritis\n",
      "Knee pain is well controlled currently.  No knee pain today.\n",
      "\n",
      "Coronary Artery Disease\n",
      "No angina.  No dyspnea.\n",
      "\n",
      "\n",
      "Allergies\n",
      "NKDA\n",
      "\n",
      "PMH\n",
      "Depression\n",
      "Hypertension\n",
      "Iron deficiency anemia\n",
      "Osteoarthritis\n",
      "Coronary Artery Disease\n",
      "Hyperlipidemia\n",
      "\n",
      "PSurgHx\n",
      "None \n",
      "\n",
      "FamHx\n",
      "None significant\n",
      "\n",
      "SocHx\n",
      "Lifetime non-user of tobacco.\n",
      "Drinks alcohol rarely.\n",
      "Has 5 adult children.\n",
      "Unemployed (has had many different jobs).\n",
      "\n",
      "Medications\n",
      "Citalopram 20 mg PO daily #90, 3 refills\n",
      "Lisinopril 20 mg PO daily #90, 3 refills\n",
      "Ferrous sulfate 325 mg PO BID #180, 3 refills\n",
      "Metoprolol 50 mg PO BID #180, 3 refills\n",
      "Acetaminophen 1000 mg PO q6h PRN #120, 11 refills\n",
      "Aspirin 81 mg PO daily #90, 3 refills\n",
      "Simvastatin 40 mg PO daily #90, 3 refills\n",
      "\n",
      "Objective\n",
      "VITALS:\n",
      "\tSBP:145, DBP:92, Pulse:76, POx:94, Temp:99.1, RR:14, Weight:198, Height:66, BMI:32\n",
      "EXAM:\n",
      "GEN: NAD, well developed and well nourished.\n",
      "HEART: RRR no M/R/G\n",
      "PSYCH: normal mood and behavior during interview.\n",
      "\n",
      "Author:  IM_Doctor\r\n",
      "-------\r\n",
      "T1 Medication 108 118 Citalopram [Treats:depression symptoms]\r\n",
      "T2 Symptom 142 161 depression symptoms [Negation:Affirmed]\r\n",
      "T3 Symptom 224 231 fatigue \r\n",
      "T4 Medication 272 282 Citalopram [Treats:fatigue]\r\n",
      "T5 Symptom 296 313 suicidal ideation [Negation:Negated]\r\n",
      "T6 Symptom 362 378 Light-headedness [Negation:Negated]\r\n",
      "T8 Symptom 188 197 depressed \r\n",
      "T13 Medication 1042 1052 Citalopram \r\n",
      "T14 Medication 1083 1093 Lisinopril \r\n",
      "T15 Medication 1124 1131 Ferrous \r\n",
      "T16 Medication 1170 1180 Metoprolol \r\n",
      "T17 Medication 1210 1223 Acetaminophen \r\n",
      "T18 Medication 1260 1267 Aspirin \r\n",
      "T19 Medication 1298 1309 Simvastatin \r\n",
      "T7 Diagnosis 722 728 angina [Negation:Negated]\r\n",
      "T9 Symptom 734 741 dyspnea [Negation:Negated]\r\n",
      "T10 Symptom 677 686 knee pain [Negation:Negated][Experiencer:Patient]\r\n",
      "0 DepressionSymptoms 638 642 pain \r\n",
      "0 DepressionSymptoms 682 686 pain [Negation:Negated]\r\n",
      "0 DepressionSymptoms 55 65 depression \r\n",
      "0 DepressionSymptoms 80 90 Depression \r\n",
      "0 DepressionSymptoms 142 152 depression \r\n",
      "0 DepressionSymptoms 188 197 depressed \r\n",
      "0 DepressionSymptoms 765 775 Depression \r\n",
      "0 DepressionSymptoms 296 313 suicidal ideation [Negation:Negated]\r\n",
      "\n"
     ]
    }
   ],
   "source": [
    "print(doc.toString())"
   ]
  },
  {
   "cell_type": "markdown",
   "metadata": {},
   "source": [
    "We have processed the document and can compare annotations of two types:\n",
    "\n",
    "    Symptom - is the reference standard annotation type\n",
    "    DepressionSymptoms - is the annotation type created by your process\n",
    "\n",
    "The [pipeUtils](pipeUtils_doc.html) framework has a method that allows to compare annotations of two types."
   ]
  },
  {
   "cell_type": "code",
   "execution_count": 2,
   "metadata": {},
   "outputs": [],
   "source": [
    "tp, fp, fn, tp_list, fp_list, fn_list = doc.compare_types_by_span('Symptom', 'DepressionSymptoms', False) \n",
    "#false means to allow overlapped."
   ]
  },
  {
   "cell_type": "code",
   "execution_count": 8,
   "metadata": {},
   "outputs": [
    {
     "name": "stdout",
     "output_type": "stream",
     "text": [
      "4 4 3\n"
     ]
    }
   ],
   "source": [
    "print(tp, fp, fn)"
   ]
  },
  {
   "cell_type": "markdown",
   "metadata": {},
   "source": [
    "------------\n",
    "\n",
    "tp_list is a list of True Positive pairs. We can print them side by side for comparison.\n"
   ]
  },
  {
   "cell_type": "code",
   "execution_count": 9,
   "metadata": {},
   "outputs": [
    {
     "name": "stdout",
     "output_type": "stream",
     "text": [
      "0 DepressionSymptoms 682 686 pain [Negation:Negated] || T10 Symptom 677 686 knee pain [Negation:Negated][Experiencer:Patient]\n",
      "0 DepressionSymptoms 142 152 depression  || T2 Symptom 142 161 depression symptoms [Negation:Affirmed]\n",
      "0 DepressionSymptoms 188 197 depressed  || T8 Symptom 188 197 depressed \n",
      "0 DepressionSymptoms 296 313 suicidal ideation [Negation:Negated] || T5 Symptom 296 313 suicidal ideation [Negation:Negated]\n"
     ]
    }
   ],
   "source": [
    "for a in tp_list:\n",
    "    print(a[0].toString(),'||', a[1].toString())"
   ]
  },
  {
   "cell_type": "markdown",
   "metadata": {},
   "source": [
    "----------\n",
    "**fn_list** and **fp_list** are simple lists of unmatched annotations."
   ]
  },
  {
   "cell_type": "code",
   "execution_count": 10,
   "metadata": {},
   "outputs": [
    {
     "name": "stdout",
     "output_type": "stream",
     "text": [
      "T3 Symptom 224 231 fatigue \n",
      "T6 Symptom 362 378 Light-headedness [Negation:Negated]\n",
      "T9 Symptom 734 741 dyspnea [Negation:Negated]\n",
      "0 DepressionSymptoms 638 642 pain \n",
      "0 DepressionSymptoms 55 65 depression \n",
      "0 DepressionSymptoms 80 90 Depression \n",
      "0 DepressionSymptoms 765 775 Depression \n"
     ]
    }
   ],
   "source": [
    "for a in fn_list:\n",
    "    print(a.toString())\n",
    "\n",
    "for a in fp_list:\n",
    "    print(a.toString())"
   ]
  },
  {
   "cell_type": "markdown",
   "metadata": {},
   "source": [
    "-----------\n",
    "\n",
    "Since we have **True Positive**, **False Positive**, and **False Negative** counts, we can calculate **Precision** and **Recall**."
   ]
  },
  {
   "cell_type": "code",
   "execution_count": 11,
   "metadata": {},
   "outputs": [
    {
     "name": "stdout",
     "output_type": "stream",
     "text": [
      "TP = 4 FP = 4 FN = 3\n",
      "Precision= 0.5\n",
      "Recall= 0.571\n"
     ]
    }
   ],
   "source": [
    "print('TP =',tp, 'FP =',fp, 'FN =',fn)\n",
    "\n",
    "if tp > 0 :\n",
    "    precision = tp / (tp + fp)\n",
    "    print('Precision=',precision)\n",
    "\n",
    "if tp > 0 :\n",
    "    recall = tp / (tp + fn)\n",
    "    print('Recall=',round(recall,3))"
   ]
  },
  {
   "cell_type": "markdown",
   "metadata": {
    "collapsed": true
   },
   "source": [
    "Now we can calculate **F1 score**"
   ]
  },
  {
   "cell_type": "code",
   "execution_count": null,
   "metadata": {
    "collapsed": true
   },
   "outputs": [],
   "source": [
    "F1 = (2*precision*recall)/(precision+recall)"
   ]
  }
 ],
 "metadata": {
  "kernelspec": {
   "display_name": "Python 3",
   "language": "python",
   "name": "python3"
  },
  "language_info": {
   "codemirror_mode": {
    "name": "ipython",
    "version": 3
   },
   "file_extension": ".py",
   "mimetype": "text/x-python",
   "name": "python",
   "nbconvert_exporter": "python",
   "pygments_lexer": "ipython3",
   "version": "3.6.4"
  }
 },
 "nbformat": 4,
 "nbformat_minor": 2
}
