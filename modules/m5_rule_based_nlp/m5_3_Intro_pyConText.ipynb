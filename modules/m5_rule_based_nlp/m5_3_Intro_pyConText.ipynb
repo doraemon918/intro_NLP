{
 "cells": [
  {
   "cell_type": "markdown",
   "metadata": {},
   "source": [
    "# How does the pyConText work\n",
    "\n",
    "Before we explain its processing mechanism, let's learn a few important concepts.\n",
    "\n"
   ]
  },
  {
   "cell_type": "markdown",
   "metadata": {},
   "source": [
    "## 1. Information model\n",
    "\n",
    "An information model is an abstraction and representation of concepts (a formal definition can be found at [Terminology for Policy-Based Management](https://tools.ietf.org/html/rfc3198)). In pyConText, we set up a simple information model to represent the concepts we are looking for, which includes two components: targets and modifiers.\n",
    "\n",
    "Consider the following sentence:\n",
    "*\"Family history: mother breast CA.\"*\n",
    "\n",
    "* A **target** is the component of this information model to describe the core information of the concept. For instance: *\"breast cancer\"*.\n",
    "\n",
    "* A ** modifier** is the component to describe a certain property of a target. For instance: *\"mother\"* .\n",
    "\n",
    "\n",
    "**Question**: Why we don't represent the concept of *\"family history of breast cancer\"* by just using *\"mother breast CA\"* without separating the target and the modifier?\n"
   ]
  },
  {
   "cell_type": "markdown",
   "metadata": {},
   "source": [
    "## 2. Three types of modifiers in pyConText\n",
    "\n",
    "pyConText is a python implementation of ConText algorithm.\n",
    "\n",
    "ConText determines the values for three contextual properties of a clinical condition: Negation, Temporality, and Experiencer. \n",
    "- The contextual property **Negation** specifies the status of the clinical existence of a condition. The default value of this property is ***affirmed***. If a clinical condition occurs within the scope of a trigger term for negation, ConText will change the default value to ***negated***. For example, in the sentence “The patient denies any nausea,” the value of Negation for the condition “nausea” will be negated.\n",
    "- The contextual property **Temporality** places a condition along a simple time line. The default value of Temporality is ***recent***. Given appropriate trigger terms, ConText can change the value of this property to either ***historical*** or ***hypothetical***. The value hypothetical covers all conditions that temporally are neither recent nor historical. A typical example of a hypothetical condition would be “fever” in a sentence such as “Patient should return if she develops fever.”\n",
    "- Finally, the contextual property **Experiencer** describes whether the patient or someone else experiences the condition. The default value is ***patient***, which, in the presence of a trigger term, can be changed to ***other***. For example, in the sentence “The patient's father has a history of CHF”, the value of Experiencer for the condition CHF is other. "
   ]
  },
  {
   "cell_type": "markdown",
   "metadata": {},
   "source": [
    "## 3. A typical pyConText rule\n",
    "The pyConText rule file can be found at [KB/fam_bc_modifiers.yml](KB/fam_bc_modifiers.yml)  \n",
    "\n",
    "A typical pyConText rule has four elements,     For instance: \n",
    "![a screenshot of modifier rule file in yml format](img/snapshot2.png)\n",
    "    \n",
    "The four elements are:\n",
    "\n",
    "1) The lexicon (e.g. \"can be ruled out\")  \n",
    "2) The type (e.g. \"DEFINITE_NEGATED_EXISTENCE\")  \n",
    "3) The regular expression (optional) used to capture the literal in the text. If no regular expression is provided, a regular expression is generated literally from the literal.  \n",
    "4) The direction states to which direction that the modifier operates in the sentence: current valid values are: \"forward\", the item can modify objects following it in the sentence; \"backward\", the item can modify objects preceding it in the sentence; or \"bidirectional\", the item can modify objects preceding and following it in the sentence. \n",
    "\n",
    " "
   ]
  },
  {
   "cell_type": "markdown",
   "metadata": {},
   "source": [
    "## 4. How does the pyConText work --- a simple explanation\n",
    "\n",
    "The pyConText will first *locate* a target term, and then *look around* it to see if there is any context clue that matches the context lexicon in the pyConText rule. If there is, pyConText will mark the clue with the context type of that rule. \n",
    "\n",
    "### 4.1 Negation example:\n",
    "\n",
    "Let's use the above rule as the example:\n",
    "\n",
    "![an example visualization of pyConText](img/snapshot7.png)\n",
    "\n",
    "As you can see, \"can be ruled out\" is identifed and linked to the target \"breast cancer.\" The \"dne\" is the first character of each word in \"DEFINITE_NEGATED_EXISTENCE.\"\n",
    "\n",
    "\n",
    "### 4.2 Historical example\n",
    "\n",
    "Here is an example rule to identify historical context:\n",
    "\n",
    "![an example visualization of pyConText](img/snapshot9.png)\n",
    "\n",
    "This rule uses a simple regular expression <span style=\"color:darkred\">'\\b\\d+ years ago'</span> to express the clue related 'x years ago', where 'x' can be any positive number. For example, '20 years ago' can be identified as below:\n",
    "\n",
    "\n",
    "\n",
    "![an example visualization of pyConText](img/snapshot8.png)\n",
    "\n",
    "'his' is the first three characters of \"HISTORICAL.\"\n",
    "\n",
    "### 4.3 Nonpatient example\n",
    "\n",
    "By default, any concept mentioned in clinical text is referring to the patient unless we find a none patient context clue. For this task, we are targeting the family history, so we need to make some context rules to identify the family related context. For example:\n",
    "![an example visualization of pyConText](img/snapshot10.png)\n",
    "\n",
    "When executing pyConText, the word \"sister\" is picked up as the \"FAMILY\" context for the target term \"breast cancer\":\n",
    "\n",
    "![an example visualization of pyConText](img/snapshot3.png)\n",
    "\n",
    "\n",
    "### 4.4 Read more:\n",
    "\n",
    "The actual mechanism is much more complicated than this simple explanation. More detailed information can be found in this paper:\n",
    "\n",
    "> Harkema H, Dowling JN, Thornblade T, Chapman WW. [ConText: an algorithm for determining negation, experiencer, and temporal status from clinical reports](http://www.ncbi.nlm.nih.gov/pubmed/19435614). J Biomed Inform 2009;42(5):839-851) "
   ]
  },
  {
   "cell_type": "markdown",
   "metadata": {},
   "source": [
    "## 5. pyConText Playground\n",
    "<font color='darkblue'><p>Feel free to make up some examples and try it yourself to see what can be produced by pyConText. Here is a playground for you. The cell below is to set up everything, let's ignore for now what DocumentClassifier does. You are welcome to explore the code on your own."
   ]
  },
  {
   "cell_type": "code",
   "execution_count": 1,
   "metadata": {},
   "outputs": [],
   "source": [
    "# ignore everything inside here, we will explain later\n",
    "from DocumentClassifier import DocumentClassifier\n",
    "from visual import Vis, view_pycontext_output\n",
    "pos_doc_type='FAM_BREAST_CA_DOC'\n",
    "TARGETS_FILE_PATH = 'KB/fam_bc_targets.yml'\n",
    "MODIFIERS_FILE_PATH = 'KB/fam_bc_modifiers.yml'\n",
    "FEATURE_INFERENCER_FILE_PATH = 'KB/fam_bc_featurer_inferences.csv'\n",
    "DOC_INFERENCER_FILE_PATH = 'KB/fam_bc_doc_inferences.csv'\n",
    "\n",
    "# clear just in case files/regular expressions have been updated\n",
    "vis = Vis(context_file=MODIFIERS_FILE_PATH, file_name=\"context_graph.html\")\n",
    "classifier = DocumentClassifier(TARGETS_FILE_PATH, MODIFIERS_FILE_PATH,\n",
    "                            FEATURE_INFERENCER_FILE_PATH, DOC_INFERENCER_FILE_PATH,\n",
    "                            {pos_doc_type})\n",
    "classifier.reset_saved_predictions()"
   ]
  },
  {
   "cell_type": "markdown",
   "metadata": {},
   "source": [
    "<font color='darkblue'><p> Try different input string (str), see what happens"
   ]
  },
  {
   "cell_type": "code",
   "execution_count": 2,
   "metadata": {
    "scrolled": true
   },
   "outputs": [
    {
     "data": {
      "text/html": [
       "\n",
       "\t\t\t      <iframe src = \"tmp/context_graph.html\" frameborder=\"0\" width = \"850\" height = \"175\">\n",
       "\t\t\t         Sorry your browser does not support inline frames.\n",
       "\t\t\t      </iframe>"
      ],
      "text/plain": [
       "<IPython.core.display.HTML object>"
      ]
     },
     "metadata": {},
     "output_type": "display_data"
    }
   ],
   "source": [
    "# This is your input string, just make sure the target term 'breast cancer' is included.\n",
    "str = '''mother does not have breast cancer'''\n",
    "classifier.predict(str)\n",
    "\n",
    "view_pycontext_output(classifier.get_last_context_doc(), vis)"
   ]
  },
  {
   "cell_type": "markdown",
   "metadata": {},
   "source": [
    "## 6. Export Context annotations to csv\n",
    "\n",
    "<font color='darkblue'><p>Let's try to export the context annotations into csv format. Because the original context markups are stored as graphs, and not easy to parse, you may want to reuse the \"convertMarkups2DF\" function in \"visual.py\", which makes this task must easier."
   ]
  },
  {
   "cell_type": "code",
   "execution_count": 3,
   "metadata": {},
   "outputs": [],
   "source": [
    "from pyConTextNLP.utils import get_document_markups\n",
    "from visual import convertMarkups2DF\n",
    "import csv"
   ]
  },
  {
   "cell_type": "markdown",
   "metadata": {},
   "source": [
    "<font color='darkblue'><p>Let's read the latest markups from classifier's cache， and convert them into pandas dataframe."
   ]
  },
  {
   "cell_type": "code",
   "execution_count": 4,
   "metadata": {},
   "outputs": [],
   "source": [
    "markups=get_document_markups(classifier.get_last_context_doc())\n",
    "annotations, relations, doc_txt=convertMarkups2DF(markups)\n"
   ]
  },
  {
   "cell_type": "markdown",
   "metadata": {},
   "source": [
    "<font color='darkblue'><p>See what's inside \"annotations\" dataframe:"
   ]
  },
  {
   "cell_type": "code",
   "execution_count": 5,
   "metadata": {},
   "outputs": [
    {
     "data": {
      "text/html": [
       "<div>\n",
       "<table border=\"1\" class=\"dataframe\">\n",
       "  <thead>\n",
       "    <tr style=\"text-align: right;\">\n",
       "      <th></th>\n",
       "      <th>markup_id</th>\n",
       "      <th>vis_category</th>\n",
       "      <th>start</th>\n",
       "      <th>end</th>\n",
       "      <th>txt</th>\n",
       "      <th>type</th>\n",
       "    </tr>\n",
       "  </thead>\n",
       "  <tbody>\n",
       "    <tr>\n",
       "      <th>0</th>\n",
       "      <td>T0</td>\n",
       "      <td>Target</td>\n",
       "      <td>21.0</td>\n",
       "      <td>34.0</td>\n",
       "      <td>breast cancer</td>\n",
       "      <td>breast_ca</td>\n",
       "    </tr>\n",
       "    <tr>\n",
       "      <th>1</th>\n",
       "      <td>T1</td>\n",
       "      <td>Modifier</td>\n",
       "      <td>12.0</td>\n",
       "      <td>20.0</td>\n",
       "      <td>not have</td>\n",
       "      <td>definite_negated_existence</td>\n",
       "    </tr>\n",
       "    <tr>\n",
       "      <th>2</th>\n",
       "      <td>T2</td>\n",
       "      <td>Modifier</td>\n",
       "      <td>0.0</td>\n",
       "      <td>6.0</td>\n",
       "      <td>mother</td>\n",
       "      <td>family</td>\n",
       "    </tr>\n",
       "  </tbody>\n",
       "</table>\n",
       "</div>"
      ],
      "text/plain": [
       "  markup_id vis_category  start   end            txt  \\\n",
       "0        T0       Target   21.0  34.0  breast cancer   \n",
       "1        T1     Modifier   12.0  20.0       not have   \n",
       "2        T2     Modifier    0.0   6.0         mother   \n",
       "\n",
       "                         type  \n",
       "0                   breast_ca  \n",
       "1  definite_negated_existence  \n",
       "2                      family  "
      ]
     },
     "execution_count": 5,
     "metadata": {},
     "output_type": "execute_result"
    }
   ],
   "source": [
    "annotations"
   ]
  },
  {
   "cell_type": "markdown",
   "metadata": {},
   "source": [
    "<font color='darkblue'><p>And what's inside \"relations\" dataframe:"
   ]
  },
  {
   "cell_type": "code",
   "execution_count": 6,
   "metadata": {},
   "outputs": [
    {
     "data": {
      "text/html": [
       "<div>\n",
       "<table border=\"1\" class=\"dataframe\">\n",
       "  <thead>\n",
       "    <tr style=\"text-align: right;\">\n",
       "      <th></th>\n",
       "      <th>relation_id</th>\n",
       "      <th>type</th>\n",
       "      <th>arg1_cate</th>\n",
       "      <th>arg1_id</th>\n",
       "      <th>arg2_cate</th>\n",
       "      <th>arg2_id</th>\n",
       "    </tr>\n",
       "  </thead>\n",
       "  <tbody>\n",
       "    <tr>\n",
       "      <th>0</th>\n",
       "      <td>R0</td>\n",
       "      <td>definite_negated_existence</td>\n",
       "      <td>Modifier</td>\n",
       "      <td>T1</td>\n",
       "      <td>Target</td>\n",
       "      <td>T0</td>\n",
       "    </tr>\n",
       "    <tr>\n",
       "      <th>1</th>\n",
       "      <td>R1</td>\n",
       "      <td>family</td>\n",
       "      <td>Modifier</td>\n",
       "      <td>T2</td>\n",
       "      <td>Target</td>\n",
       "      <td>T0</td>\n",
       "    </tr>\n",
       "  </tbody>\n",
       "</table>\n",
       "</div>"
      ],
      "text/plain": [
       "  relation_id                        type arg1_cate arg1_id arg2_cate arg2_id\n",
       "0          R0  definite_negated_existence  Modifier      T1    Target      T0\n",
       "1          R1                      family  Modifier      T2    Target      T0"
      ]
     },
     "execution_count": 6,
     "metadata": {},
     "output_type": "execute_result"
    }
   ],
   "source": [
    "relations"
   ]
  },
  {
   "cell_type": "markdown",
   "metadata": {},
   "source": [
    "<font color='darkblue'><p>Now we combine these two dataframes into a dictionary, in which modifiers are attached to their corresponding target concepts."
   ]
  },
  {
   "cell_type": "code",
   "execution_count": 7,
   "metadata": {},
   "outputs": [],
   "source": [
    "concepts=dict()\n",
    "# read all the target concepts\n",
    "for index, row in annotations.iterrows():\n",
    "    if row['vis_category']=='Target':\n",
    "        concepts[row['markup_id']]=[row['type'], int(row['start']) ,int(row['end']),row['txt']]\n",
    "\n",
    "# attach related modifiers\n",
    "for index, row in relations.iterrows():\n",
    "    if row['arg2_cate']=='Target':\n",
    "        concepts[row['arg2_id']].append(row['type'])    \n",
    "    "
   ]
  },
  {
   "cell_type": "code",
   "execution_count": 8,
   "metadata": {},
   "outputs": [
    {
     "data": {
      "text/plain": [
       "{'T0': ['breast_ca',\n",
       "  21,\n",
       "  34,\n",
       "  'breast cancer',\n",
       "  'definite_negated_existence',\n",
       "  'family']}"
      ]
     },
     "execution_count": 8,
     "metadata": {},
     "output_type": "execute_result"
    }
   ],
   "source": [
    "concepts"
   ]
  },
  {
   "cell_type": "markdown",
   "metadata": {},
   "source": [
    "<font color='darkblue'><p>Write the dictionary values into a csv file:"
   ]
  },
  {
   "cell_type": "code",
   "execution_count": 9,
   "metadata": {},
   "outputs": [],
   "source": [
    "with open('tmp/output.csv', 'w', newline='') as csvfile:\n",
    "    spamwriter = csv.writer(csvfile)\n",
    "    spamwriter.writerows(list(concepts.values()))"
   ]
  },
  {
   "cell_type": "markdown",
   "metadata": {},
   "source": [
    "Now a new file has been created. Open the folder and review output.csv file."
   ]
  },
  {
   "cell_type": "markdown",
   "metadata": {},
   "source": [
    "### Have quiestions? Please ask!"
   ]
  },
  {
   "cell_type": "code",
   "execution_count": null,
   "metadata": {},
   "outputs": [],
   "source": []
  }
 ],
 "metadata": {
  "anaconda-cloud": {},
  "kernelspec": {
   "display_name": "Python 3",
   "language": "python",
   "name": "python3"
  },
  "language_info": {
   "codemirror_mode": {
    "name": "ipython",
    "version": 3
   },
   "file_extension": ".py",
   "mimetype": "text/x-python",
   "name": "python",
   "nbconvert_exporter": "python",
   "pygments_lexer": "ipython3",
   "version": "3.6.4"
  }
 },
 "nbformat": 4,
 "nbformat_minor": 1
}
